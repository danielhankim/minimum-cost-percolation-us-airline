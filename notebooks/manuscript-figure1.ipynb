{
 "cells": [
  {
   "cell_type": "code",
   "execution_count": 1,
   "metadata": {},
   "outputs": [
    {
     "name": "stderr",
     "output_type": "stream",
     "text": [
      "/tmp/ipykernel_1059797/1599647510.py:5: DeprecationWarning: \n",
      "Pyarrow will become a required dependency of pandas in the next major release of pandas (pandas 3.0),\n",
      "(to allow more performant data types, such as the Arrow string type, and better interoperability with other libraries)\n",
      "but was not found to be installed on your system.\n",
      "If this would cause problems for you,\n",
      "please provide us feedback at https://github.com/pandas-dev/pandas/issues/54466\n",
      "        \n",
      "  import pandas as pd\n"
     ]
    }
   ],
   "source": [
    "import os\n",
    "import pickle\n",
    "\n",
    "import numpy as np\n",
    "import pandas as pd\n",
    "import matplotlib.pyplot as plt\n",
    "import seaborn as sns\n",
    "\n",
    "import statsmodels.formula.api as smf\n",
    "\n",
    "from tqdm import tqdm\n",
    "\n",
    "from mcp_us_airline.utils import airport_utils\n",
    "from mcp_us_airline.utils import constants\n",
    "from mcp_us_airline.utils import demand_utils\n",
    "from mcp_us_airline.utils import io_utils\n",
    "from mcp_us_airline.utils import population_utils\n",
    "from mcp_us_airline.utils import preprocess_utils"
   ]
  },
  {
   "cell_type": "code",
   "execution_count": 2,
   "metadata": {},
   "outputs": [],
   "source": [
    "RAW_DIR = constants.RAW_DIR\n",
    "DERIVED_DIR = constants.DERIVED_DIR\n",
    "ONTIME_DIR = constants.ONTIME_DIR\n",
    "DB1B_DIR = constants.DB1B_DIR\n",
    "POPULATION_DIR = constants.POPULATION_DIR"
   ]
  },
  {
   "cell_type": "code",
   "execution_count": 3,
   "metadata": {},
   "outputs": [
    {
     "name": "stderr",
     "output_type": "stream",
     "text": [
      "/home/mk139/WorkSpace/minimum-cost-percolation-us-airline/libs/mcp_us_airline/mcp_us_airline/utils/preprocess_utils.py:68: DtypeWarning: Columns (11,13,86,93) have mixed types. Specify dtype option on import or set low_memory=False.\n",
      "  ontime_df = pd.read_csv(os.path.join(ONTIME_DIR, f\"On_Time_Marketing_Carrier_{year}_{month}.csv\"))\n"
     ]
    },
    {
     "name": "stdout",
     "output_type": "stream",
     "text": [
      "total number of flights in 2023-4: 596676\n",
      "\n",
      "total number of flights opereated by all on 2023-4-[18]: 19458\n",
      "\n"
     ]
    },
    {
     "name": "stderr",
     "output_type": "stream",
     "text": [
      "100%|██████████| 19458/19458 [00:09<00:00, 2027.92it/s]\n"
     ]
    },
    {
     "name": "stdout",
     "output_type": "stream",
     "text": [
      "total number of flights after adding time/distance information: 19458\n",
      "\n"
     ]
    },
    {
     "name": "stderr",
     "output_type": "stream",
     "text": [
      "/home/mk139/WorkSpace/minimum-cost-percolation-us-airline/libs/mcp_us_airline/mcp_us_airline/utils/preprocess_utils.py:44: DtypeWarning: Columns (18) have mixed types. Specify dtype option on import or set low_memory=False.\n",
      "  master_df = pd.read_csv(f'{AIRCRAFT_DIR}/master_{year}.txt', sep=',')\n"
     ]
    },
    {
     "name": "stdout",
     "output_type": "stream",
     "text": [
      "number of flights with nan values: 98\n",
      "\n",
      "number of nan values from missing tail number: 8\n",
      "\n"
     ]
    },
    {
     "data": {
      "text/html": [
       "<div>\n",
       "<style scoped>\n",
       "    .dataframe tbody tr th:only-of-type {\n",
       "        vertical-align: middle;\n",
       "    }\n",
       "\n",
       "    .dataframe tbody tr th {\n",
       "        vertical-align: top;\n",
       "    }\n",
       "\n",
       "    .dataframe thead th {\n",
       "        text-align: right;\n",
       "    }\n",
       "</style>\n",
       "<table border=\"1\" class=\"dataframe\">\n",
       "  <thead>\n",
       "    <tr style=\"text-align: right;\">\n",
       "      <th></th>\n",
       "      <th>flight_idx</th>\n",
       "      <th>Origin</th>\n",
       "      <th>Dest</th>\n",
       "      <th>Operating_Airline</th>\n",
       "      <th>Tail_Number</th>\n",
       "      <th>CRSDepTime</th>\n",
       "      <th>CRSArrTime</th>\n",
       "      <th>CRSElapsedTime</th>\n",
       "      <th>UTCDepTime</th>\n",
       "      <th>UTCArrTime</th>\n",
       "      <th>Distance</th>\n",
       "      <th>NO_SEATS</th>\n",
       "    </tr>\n",
       "  </thead>\n",
       "  <tbody>\n",
       "    <tr>\n",
       "      <th>0</th>\n",
       "      <td>1</td>\n",
       "      <td>DCA</td>\n",
       "      <td>SEA</td>\n",
       "      <td>AS</td>\n",
       "      <td>N590AS</td>\n",
       "      <td>2023-04-18 08:00:00</td>\n",
       "      <td>2023-04-18 10:49:00</td>\n",
       "      <td>349.0</td>\n",
       "      <td>1.681819e+09</td>\n",
       "      <td>1.681840e+09</td>\n",
       "      <td>3747.303757</td>\n",
       "      <td>149.0</td>\n",
       "    </tr>\n",
       "    <tr>\n",
       "      <th>1</th>\n",
       "      <td>2</td>\n",
       "      <td>SEA</td>\n",
       "      <td>DCA</td>\n",
       "      <td>AS</td>\n",
       "      <td>N568AS</td>\n",
       "      <td>2023-04-18 14:00:00</td>\n",
       "      <td>2023-04-18 21:59:00</td>\n",
       "      <td>299.0</td>\n",
       "      <td>1.681852e+09</td>\n",
       "      <td>1.681870e+09</td>\n",
       "      <td>3747.303757</td>\n",
       "      <td>149.0</td>\n",
       "    </tr>\n",
       "    <tr>\n",
       "      <th>2</th>\n",
       "      <td>3</td>\n",
       "      <td>DCA</td>\n",
       "      <td>SEA</td>\n",
       "      <td>AS</td>\n",
       "      <td>N508AS</td>\n",
       "      <td>2023-04-18 17:35:00</td>\n",
       "      <td>2023-04-18 20:24:00</td>\n",
       "      <td>349.0</td>\n",
       "      <td>1.681854e+09</td>\n",
       "      <td>1.681875e+09</td>\n",
       "      <td>3747.303757</td>\n",
       "      <td>149.0</td>\n",
       "    </tr>\n",
       "    <tr>\n",
       "      <th>3</th>\n",
       "      <td>4</td>\n",
       "      <td>SEA</td>\n",
       "      <td>DCA</td>\n",
       "      <td>AS</td>\n",
       "      <td>N508AS</td>\n",
       "      <td>2023-04-18 08:25:00</td>\n",
       "      <td>2023-04-18 16:34:00</td>\n",
       "      <td>309.0</td>\n",
       "      <td>1.681832e+09</td>\n",
       "      <td>1.681850e+09</td>\n",
       "      <td>3747.303757</td>\n",
       "      <td>149.0</td>\n",
       "    </tr>\n",
       "    <tr>\n",
       "      <th>4</th>\n",
       "      <td>5</td>\n",
       "      <td>DCA</td>\n",
       "      <td>LAX</td>\n",
       "      <td>AS</td>\n",
       "      <td>N520AS</td>\n",
       "      <td>2023-04-18 09:10:00</td>\n",
       "      <td>2023-04-18 11:52:00</td>\n",
       "      <td>342.0</td>\n",
       "      <td>1.681823e+09</td>\n",
       "      <td>1.681844e+09</td>\n",
       "      <td>3719.085326</td>\n",
       "      <td>149.0</td>\n",
       "    </tr>\n",
       "    <tr>\n",
       "      <th>...</th>\n",
       "      <td>...</td>\n",
       "      <td>...</td>\n",
       "      <td>...</td>\n",
       "      <td>...</td>\n",
       "      <td>...</td>\n",
       "      <td>...</td>\n",
       "      <td>...</td>\n",
       "      <td>...</td>\n",
       "      <td>...</td>\n",
       "      <td>...</td>\n",
       "      <td>...</td>\n",
       "      <td>...</td>\n",
       "    </tr>\n",
       "    <tr>\n",
       "      <th>18593</th>\n",
       "      <td>18594</td>\n",
       "      <td>BDL</td>\n",
       "      <td>CLT</td>\n",
       "      <td>OH</td>\n",
       "      <td>N567NN</td>\n",
       "      <td>2023-04-18 10:10:00</td>\n",
       "      <td>2023-04-18 12:16:00</td>\n",
       "      <td>126.0</td>\n",
       "      <td>1.681827e+09</td>\n",
       "      <td>1.681835e+09</td>\n",
       "      <td>1035.989568</td>\n",
       "      <td>95.0</td>\n",
       "    </tr>\n",
       "    <tr>\n",
       "      <th>18594</th>\n",
       "      <td>18595</td>\n",
       "      <td>CLT</td>\n",
       "      <td>BTR</td>\n",
       "      <td>OH</td>\n",
       "      <td>N607NN</td>\n",
       "      <td>2023-04-18 18:20:00</td>\n",
       "      <td>2023-04-18 19:36:00</td>\n",
       "      <td>136.0</td>\n",
       "      <td>1.681856e+09</td>\n",
       "      <td>1.681865e+09</td>\n",
       "      <td>1086.280033</td>\n",
       "      <td>95.0</td>\n",
       "    </tr>\n",
       "    <tr>\n",
       "      <th>18595</th>\n",
       "      <td>18596</td>\n",
       "      <td>DCA</td>\n",
       "      <td>CVG</td>\n",
       "      <td>OH</td>\n",
       "      <td>N582NN</td>\n",
       "      <td>2023-04-18 20:23:00</td>\n",
       "      <td>2023-04-18 22:14:00</td>\n",
       "      <td>111.0</td>\n",
       "      <td>1.681864e+09</td>\n",
       "      <td>1.681870e+09</td>\n",
       "      <td>661.595377</td>\n",
       "      <td>95.0</td>\n",
       "    </tr>\n",
       "    <tr>\n",
       "      <th>18596</th>\n",
       "      <td>18597</td>\n",
       "      <td>HPN</td>\n",
       "      <td>DCA</td>\n",
       "      <td>OH</td>\n",
       "      <td>N523AE</td>\n",
       "      <td>2023-04-18 06:30:00</td>\n",
       "      <td>2023-04-18 07:48:00</td>\n",
       "      <td>78.0</td>\n",
       "      <td>1.681814e+09</td>\n",
       "      <td>1.681818e+09</td>\n",
       "      <td>376.034307</td>\n",
       "      <td>80.0</td>\n",
       "    </tr>\n",
       "    <tr>\n",
       "      <th>18597</th>\n",
       "      <td>18598</td>\n",
       "      <td>BTR</td>\n",
       "      <td>CLT</td>\n",
       "      <td>OH</td>\n",
       "      <td>N575NN</td>\n",
       "      <td>2023-04-18 07:00:00</td>\n",
       "      <td>2023-04-18 10:03:00</td>\n",
       "      <td>123.0</td>\n",
       "      <td>1.681819e+09</td>\n",
       "      <td>1.681827e+09</td>\n",
       "      <td>1086.280033</td>\n",
       "      <td>95.0</td>\n",
       "    </tr>\n",
       "  </tbody>\n",
       "</table>\n",
       "<p>18598 rows × 12 columns</p>\n",
       "</div>"
      ],
      "text/plain": [
       "       flight_idx Origin Dest Operating_Airline Tail_Number  \\\n",
       "0               1    DCA  SEA                AS      N590AS   \n",
       "1               2    SEA  DCA                AS      N568AS   \n",
       "2               3    DCA  SEA                AS      N508AS   \n",
       "3               4    SEA  DCA                AS      N508AS   \n",
       "4               5    DCA  LAX                AS      N520AS   \n",
       "...           ...    ...  ...               ...         ...   \n",
       "18593       18594    BDL  CLT                OH      N567NN   \n",
       "18594       18595    CLT  BTR                OH      N607NN   \n",
       "18595       18596    DCA  CVG                OH      N582NN   \n",
       "18596       18597    HPN  DCA                OH      N523AE   \n",
       "18597       18598    BTR  CLT                OH      N575NN   \n",
       "\n",
       "               CRSDepTime          CRSArrTime  CRSElapsedTime    UTCDepTime  \\\n",
       "0     2023-04-18 08:00:00 2023-04-18 10:49:00           349.0  1.681819e+09   \n",
       "1     2023-04-18 14:00:00 2023-04-18 21:59:00           299.0  1.681852e+09   \n",
       "2     2023-04-18 17:35:00 2023-04-18 20:24:00           349.0  1.681854e+09   \n",
       "3     2023-04-18 08:25:00 2023-04-18 16:34:00           309.0  1.681832e+09   \n",
       "4     2023-04-18 09:10:00 2023-04-18 11:52:00           342.0  1.681823e+09   \n",
       "...                   ...                 ...             ...           ...   \n",
       "18593 2023-04-18 10:10:00 2023-04-18 12:16:00           126.0  1.681827e+09   \n",
       "18594 2023-04-18 18:20:00 2023-04-18 19:36:00           136.0  1.681856e+09   \n",
       "18595 2023-04-18 20:23:00 2023-04-18 22:14:00           111.0  1.681864e+09   \n",
       "18596 2023-04-18 06:30:00 2023-04-18 07:48:00            78.0  1.681814e+09   \n",
       "18597 2023-04-18 07:00:00 2023-04-18 10:03:00           123.0  1.681819e+09   \n",
       "\n",
       "         UTCArrTime     Distance  NO_SEATS  \n",
       "0      1.681840e+09  3747.303757     149.0  \n",
       "1      1.681870e+09  3747.303757     149.0  \n",
       "2      1.681875e+09  3747.303757     149.0  \n",
       "3      1.681850e+09  3747.303757     149.0  \n",
       "4      1.681844e+09  3719.085326     149.0  \n",
       "...             ...          ...       ...  \n",
       "18593  1.681835e+09  1035.989568      95.0  \n",
       "18594  1.681865e+09  1086.280033      95.0  \n",
       "18595  1.681870e+09   661.595377      95.0  \n",
       "18596  1.681818e+09   376.034307      80.0  \n",
       "18597  1.681827e+09  1086.280033      95.0  \n",
       "\n",
       "[18598 rows x 12 columns]"
      ]
     },
     "execution_count": 3,
     "metadata": {},
     "output_type": "execute_result"
    }
   ],
   "source": [
    "delta_min = 30  # minimum connect time w.o. sharing (unit: minute)\n",
    "delta_share_min = 60  # minimum connect time w. sharing (unit: minute)\n",
    "share = False  # flight share/non-share\n",
    "\n",
    "YEAR = 2023\n",
    "MONTH = 4\n",
    "DATE = [18]\n",
    "CARRIER = \"all\"\n",
    "\n",
    "ontime_df = preprocess_utils.prepare_ontime_df(year=YEAR, \n",
    "                                               month=MONTH, \n",
    "                                               date=DATE, \n",
    "                                               carrier=CARRIER, \n",
    "                                               distance_function=\"geodesic\",\n",
    "                                               arrival_time=\"elapsed_time\",\n",
    "                                               contiguous_us=True)\n",
    "\n",
    "ontime_df"
   ]
  },
  {
   "cell_type": "code",
   "execution_count": 11,
   "metadata": {},
   "outputs": [
    {
     "name": "stderr",
     "output_type": "stream",
     "text": [
      "  0%|          | 0/18598 [00:00<?, ?it/s]"
     ]
    },
    {
     "name": "stderr",
     "output_type": "stream",
     "text": [
      "100%|██████████| 18598/18598 [00:00<00:00, 66609.80it/s]\n"
     ]
    },
    {
     "name": "stdout",
     "output_type": "stream",
     "text": [
      "working on config 1\n",
      "working on delta=0.0\n"
     ]
    },
    {
     "name": "stderr",
     "output_type": "stream",
     "text": [
      "100%|██████████| 18598/18598 [00:03<00:00, 5404.32it/s]\n"
     ]
    },
    {
     "name": "stdout",
     "output_type": "stream",
     "text": [
      "# of total edges in FCN : 856225\n",
      "working on delta=30.0\n"
     ]
    },
    {
     "name": "stderr",
     "output_type": "stream",
     "text": [
      "100%|██████████| 18598/18598 [00:03<00:00, 5315.71it/s]\n"
     ]
    },
    {
     "name": "stdout",
     "output_type": "stream",
     "text": [
      "# of total edges in FCN : 816432\n",
      "working on delta=60.0\n"
     ]
    },
    {
     "name": "stderr",
     "output_type": "stream",
     "text": [
      "100%|██████████| 18598/18598 [00:03<00:00, 5362.83it/s]\n"
     ]
    },
    {
     "name": "stdout",
     "output_type": "stream",
     "text": [
      "# of total edges in FCN : 756194\n",
      "working on delta=90.0\n"
     ]
    },
    {
     "name": "stderr",
     "output_type": "stream",
     "text": [
      "100%|██████████| 18598/18598 [00:03<00:00, 5462.37it/s]\n"
     ]
    },
    {
     "name": "stdout",
     "output_type": "stream",
     "text": [
      "# of total edges in FCN : 691107\n",
      "working on delta=120.0\n"
     ]
    },
    {
     "name": "stderr",
     "output_type": "stream",
     "text": [
      "100%|██████████| 18598/18598 [00:03<00:00, 5435.62it/s]\n"
     ]
    },
    {
     "name": "stdout",
     "output_type": "stream",
     "text": [
      "# of total edges in FCN : 645403\n",
      "working on delta=150.0\n"
     ]
    },
    {
     "name": "stderr",
     "output_type": "stream",
     "text": [
      "100%|██████████| 18598/18598 [00:03<00:00, 5476.97it/s]\n"
     ]
    },
    {
     "name": "stdout",
     "output_type": "stream",
     "text": [
      "# of total edges in FCN : 606196\n",
      "working on delta=180.0\n"
     ]
    },
    {
     "name": "stderr",
     "output_type": "stream",
     "text": [
      "100%|██████████| 18598/18598 [00:03<00:00, 5160.24it/s]\n"
     ]
    },
    {
     "name": "stdout",
     "output_type": "stream",
     "text": [
      "# of total edges in FCN : 561201\n",
      "working on delta=210.0\n"
     ]
    },
    {
     "name": "stderr",
     "output_type": "stream",
     "text": [
      "100%|██████████| 18598/18598 [00:03<00:00, 5406.15it/s]\n"
     ]
    },
    {
     "name": "stdout",
     "output_type": "stream",
     "text": [
      "# of total edges in FCN : 516999\n",
      "working on delta=240.0\n"
     ]
    },
    {
     "name": "stderr",
     "output_type": "stream",
     "text": [
      "100%|██████████| 18598/18598 [00:03<00:00, 5428.09it/s]\n"
     ]
    },
    {
     "name": "stdout",
     "output_type": "stream",
     "text": [
      "# of total edges in FCN : 480627\n",
      "working on delta=270.0\n"
     ]
    },
    {
     "name": "stderr",
     "output_type": "stream",
     "text": [
      "100%|██████████| 18598/18598 [00:03<00:00, 5474.82it/s]\n"
     ]
    },
    {
     "name": "stdout",
     "output_type": "stream",
     "text": [
      "# of total edges in FCN : 446446\n",
      "working on delta=300.0\n"
     ]
    },
    {
     "name": "stderr",
     "output_type": "stream",
     "text": [
      "100%|██████████| 18598/18598 [00:03<00:00, 5465.15it/s]\n"
     ]
    },
    {
     "name": "stdout",
     "output_type": "stream",
     "text": [
      "# of total edges in FCN : 410023\n",
      "working on delta=330.0\n"
     ]
    },
    {
     "name": "stderr",
     "output_type": "stream",
     "text": [
      "100%|██████████| 18598/18598 [00:03<00:00, 5477.18it/s]\n"
     ]
    },
    {
     "name": "stdout",
     "output_type": "stream",
     "text": [
      "# of total edges in FCN : 375293\n",
      "working on delta=360.0\n"
     ]
    },
    {
     "name": "stderr",
     "output_type": "stream",
     "text": [
      "100%|██████████| 18598/18598 [00:03<00:00, 5251.30it/s]\n"
     ]
    },
    {
     "name": "stdout",
     "output_type": "stream",
     "text": [
      "# of total edges in FCN : 343320\n",
      "working on delta=390.0\n"
     ]
    },
    {
     "name": "stderr",
     "output_type": "stream",
     "text": [
      "100%|██████████| 18598/18598 [00:03<00:00, 5674.03it/s]\n"
     ]
    },
    {
     "name": "stdout",
     "output_type": "stream",
     "text": [
      "# of total edges in FCN : 312564\n",
      "working on delta=420.0\n"
     ]
    },
    {
     "name": "stderr",
     "output_type": "stream",
     "text": [
      "100%|██████████| 18598/18598 [00:03<00:00, 5594.11it/s]\n"
     ]
    },
    {
     "name": "stdout",
     "output_type": "stream",
     "text": [
      "# of total edges in FCN : 281700\n",
      "working on delta=450.0\n"
     ]
    },
    {
     "name": "stderr",
     "output_type": "stream",
     "text": [
      "100%|██████████| 18598/18598 [00:03<00:00, 5550.61it/s]\n"
     ]
    },
    {
     "name": "stdout",
     "output_type": "stream",
     "text": [
      "# of total edges in FCN : 251715\n",
      "working on delta=480.0\n"
     ]
    },
    {
     "name": "stderr",
     "output_type": "stream",
     "text": [
      "100%|██████████| 18598/18598 [00:03<00:00, 5537.03it/s]\n"
     ]
    },
    {
     "name": "stdout",
     "output_type": "stream",
     "text": [
      "# of total edges in FCN : 224725\n",
      "working on delta=510.0\n"
     ]
    },
    {
     "name": "stderr",
     "output_type": "stream",
     "text": [
      "100%|██████████| 18598/18598 [00:03<00:00, 5549.91it/s]\n"
     ]
    },
    {
     "name": "stdout",
     "output_type": "stream",
     "text": [
      "# of total edges in FCN : 199154\n",
      "working on delta=540.0\n"
     ]
    },
    {
     "name": "stderr",
     "output_type": "stream",
     "text": [
      "100%|██████████| 18598/18598 [00:03<00:00, 5565.28it/s]\n"
     ]
    },
    {
     "name": "stdout",
     "output_type": "stream",
     "text": [
      "# of total edges in FCN : 174862\n",
      "working on delta=570.0\n"
     ]
    },
    {
     "name": "stderr",
     "output_type": "stream",
     "text": [
      "100%|██████████| 18598/18598 [00:03<00:00, 5307.74it/s]\n"
     ]
    },
    {
     "name": "stdout",
     "output_type": "stream",
     "text": [
      "# of total edges in FCN : 152225\n",
      "working on delta=600.0\n"
     ]
    },
    {
     "name": "stderr",
     "output_type": "stream",
     "text": [
      "100%|██████████| 18598/18598 [00:03<00:00, 5588.59it/s]\n"
     ]
    },
    {
     "name": "stdout",
     "output_type": "stream",
     "text": [
      "# of total edges in FCN : 131813\n",
      "working on delta=630.0\n"
     ]
    },
    {
     "name": "stderr",
     "output_type": "stream",
     "text": [
      "100%|██████████| 18598/18598 [00:03<00:00, 5661.90it/s]\n"
     ]
    },
    {
     "name": "stdout",
     "output_type": "stream",
     "text": [
      "# of total edges in FCN : 112073\n",
      "working on delta=660.0\n"
     ]
    },
    {
     "name": "stderr",
     "output_type": "stream",
     "text": [
      "100%|██████████| 18598/18598 [00:03<00:00, 5665.49it/s]\n"
     ]
    },
    {
     "name": "stdout",
     "output_type": "stream",
     "text": [
      "# of total edges in FCN : 93314\n",
      "working on delta=690.0\n"
     ]
    },
    {
     "name": "stderr",
     "output_type": "stream",
     "text": [
      "100%|██████████| 18598/18598 [00:03<00:00, 5755.59it/s]\n"
     ]
    },
    {
     "name": "stdout",
     "output_type": "stream",
     "text": [
      "# of total edges in FCN : 77414\n",
      "working on delta=720.0\n"
     ]
    },
    {
     "name": "stderr",
     "output_type": "stream",
     "text": [
      "100%|██████████| 18598/18598 [00:03<00:00, 5766.24it/s]\n"
     ]
    },
    {
     "name": "stdout",
     "output_type": "stream",
     "text": [
      "# of total edges in FCN : 61882\n",
      "working on delta=750.0\n"
     ]
    },
    {
     "name": "stderr",
     "output_type": "stream",
     "text": [
      "100%|██████████| 18598/18598 [00:03<00:00, 5424.18it/s]\n"
     ]
    },
    {
     "name": "stdout",
     "output_type": "stream",
     "text": [
      "# of total edges in FCN : 47910\n",
      "working on delta=780.0\n"
     ]
    },
    {
     "name": "stderr",
     "output_type": "stream",
     "text": [
      "100%|██████████| 18598/18598 [00:03<00:00, 5689.83it/s]\n"
     ]
    },
    {
     "name": "stdout",
     "output_type": "stream",
     "text": [
      "# of total edges in FCN : 36712\n",
      "working on delta=810.0\n"
     ]
    },
    {
     "name": "stderr",
     "output_type": "stream",
     "text": [
      "100%|██████████| 18598/18598 [00:03<00:00, 5783.91it/s]\n"
     ]
    },
    {
     "name": "stdout",
     "output_type": "stream",
     "text": [
      "# of total edges in FCN : 27031\n",
      "working on delta=840.0\n"
     ]
    },
    {
     "name": "stderr",
     "output_type": "stream",
     "text": [
      "100%|██████████| 18598/18598 [00:03<00:00, 5782.97it/s]\n"
     ]
    },
    {
     "name": "stdout",
     "output_type": "stream",
     "text": [
      "# of total edges in FCN : 17939\n",
      "working on delta=870.0\n"
     ]
    },
    {
     "name": "stderr",
     "output_type": "stream",
     "text": [
      "100%|██████████| 18598/18598 [00:03<00:00, 5785.57it/s]\n"
     ]
    },
    {
     "name": "stdout",
     "output_type": "stream",
     "text": [
      "# of total edges in FCN : 10993\n",
      "working on delta=900.0\n"
     ]
    },
    {
     "name": "stderr",
     "output_type": "stream",
     "text": [
      "100%|██████████| 18598/18598 [00:03<00:00, 5793.37it/s]\n"
     ]
    },
    {
     "name": "stdout",
     "output_type": "stream",
     "text": [
      "# of total edges in FCN : 6216\n",
      "working on delta=930.0\n"
     ]
    },
    {
     "name": "stderr",
     "output_type": "stream",
     "text": [
      "100%|██████████| 18598/18598 [00:03<00:00, 5786.96it/s]\n"
     ]
    },
    {
     "name": "stdout",
     "output_type": "stream",
     "text": [
      "# of total edges in FCN : 2693\n",
      "working on delta=960.0\n"
     ]
    },
    {
     "name": "stderr",
     "output_type": "stream",
     "text": [
      "100%|██████████| 18598/18598 [00:03<00:00, 5536.70it/s]\n"
     ]
    },
    {
     "name": "stdout",
     "output_type": "stream",
     "text": [
      "# of total edges in FCN : 980\n",
      "working on delta=990.0\n"
     ]
    },
    {
     "name": "stderr",
     "output_type": "stream",
     "text": [
      "100%|██████████| 18598/18598 [00:03<00:00, 5789.83it/s]\n"
     ]
    },
    {
     "name": "stdout",
     "output_type": "stream",
     "text": [
      "# of total edges in FCN : 271\n",
      "working on delta=1020.0\n"
     ]
    },
    {
     "name": "stderr",
     "output_type": "stream",
     "text": [
      "100%|██████████| 18598/18598 [00:03<00:00, 5785.60it/s]\n"
     ]
    },
    {
     "name": "stdout",
     "output_type": "stream",
     "text": [
      "# of total edges in FCN : 86\n",
      "working on delta=1050.0\n"
     ]
    },
    {
     "name": "stderr",
     "output_type": "stream",
     "text": [
      "100%|██████████| 18598/18598 [00:03<00:00, 5790.03it/s]\n"
     ]
    },
    {
     "name": "stdout",
     "output_type": "stream",
     "text": [
      "# of total edges in FCN : 15\n",
      "working on delta=1080.0\n"
     ]
    },
    {
     "name": "stderr",
     "output_type": "stream",
     "text": [
      "100%|██████████| 18598/18598 [00:03<00:00, 5781.07it/s]\n"
     ]
    },
    {
     "name": "stdout",
     "output_type": "stream",
     "text": [
      "# of total edges in FCN : 3\n",
      "working on delta=1110.0\n"
     ]
    },
    {
     "name": "stderr",
     "output_type": "stream",
     "text": [
      "100%|██████████| 18598/18598 [00:03<00:00, 5783.19it/s]\n"
     ]
    },
    {
     "name": "stdout",
     "output_type": "stream",
     "text": [
      "# of total edges in FCN : 0\n",
      "working on delta=1140.0\n"
     ]
    },
    {
     "name": "stderr",
     "output_type": "stream",
     "text": [
      "100%|██████████| 18598/18598 [00:03<00:00, 5525.83it/s]\n"
     ]
    },
    {
     "name": "stdout",
     "output_type": "stream",
     "text": [
      "# of total edges in FCN : 0\n",
      "working on delta=1170.0\n"
     ]
    },
    {
     "name": "stderr",
     "output_type": "stream",
     "text": [
      "100%|██████████| 18598/18598 [00:03<00:00, 5785.83it/s]\n"
     ]
    },
    {
     "name": "stdout",
     "output_type": "stream",
     "text": [
      "# of total edges in FCN : 0\n",
      "working on delta=1200.0\n"
     ]
    },
    {
     "name": "stderr",
     "output_type": "stream",
     "text": [
      "100%|██████████| 18598/18598 [00:03<00:00, 5783.68it/s]\n"
     ]
    },
    {
     "name": "stdout",
     "output_type": "stream",
     "text": [
      "# of total edges in FCN : 0\n",
      "working on config 2\n",
      "working on delta=0.0\n"
     ]
    },
    {
     "name": "stderr",
     "output_type": "stream",
     "text": [
      "100%|██████████| 18598/18598 [00:04<00:00, 4614.32it/s]\n"
     ]
    },
    {
     "name": "stdout",
     "output_type": "stream",
     "text": [
      "# of total edges in FCN : 2861768\n",
      "working on delta=30.0\n"
     ]
    },
    {
     "name": "stderr",
     "output_type": "stream",
     "text": [
      "100%|██████████| 18598/18598 [00:04<00:00, 4534.54it/s]\n"
     ]
    },
    {
     "name": "stdout",
     "output_type": "stream",
     "text": [
      "# of total edges in FCN : 2707592\n",
      "working on delta=60.0\n"
     ]
    },
    {
     "name": "stderr",
     "output_type": "stream",
     "text": [
      "100%|██████████| 18598/18598 [00:04<00:00, 4622.88it/s]\n"
     ]
    },
    {
     "name": "stdout",
     "output_type": "stream",
     "text": [
      "# of total edges in FCN : 2515389\n",
      "working on delta=90.0\n"
     ]
    },
    {
     "name": "stderr",
     "output_type": "stream",
     "text": [
      "100%|██████████| 18598/18598 [00:03<00:00, 4716.55it/s]\n"
     ]
    },
    {
     "name": "stdout",
     "output_type": "stream",
     "text": [
      "# of total edges in FCN : 2313846\n",
      "working on delta=120.0\n"
     ]
    },
    {
     "name": "stderr",
     "output_type": "stream",
     "text": [
      "100%|██████████| 18598/18598 [00:04<00:00, 4462.90it/s]\n"
     ]
    },
    {
     "name": "stdout",
     "output_type": "stream",
     "text": [
      "# of total edges in FCN : 2153294\n",
      "working on delta=150.0\n"
     ]
    },
    {
     "name": "stderr",
     "output_type": "stream",
     "text": [
      "100%|██████████| 18598/18598 [00:03<00:00, 4788.88it/s]\n"
     ]
    },
    {
     "name": "stdout",
     "output_type": "stream",
     "text": [
      "# of total edges in FCN : 2008354\n",
      "working on delta=180.0\n"
     ]
    },
    {
     "name": "stderr",
     "output_type": "stream",
     "text": [
      "100%|██████████| 18598/18598 [00:03<00:00, 4805.34it/s]\n"
     ]
    },
    {
     "name": "stdout",
     "output_type": "stream",
     "text": [
      "# of total edges in FCN : 1854536\n",
      "working on delta=210.0\n"
     ]
    },
    {
     "name": "stderr",
     "output_type": "stream",
     "text": [
      "100%|██████████| 18598/18598 [00:03<00:00, 4857.85it/s]\n"
     ]
    },
    {
     "name": "stdout",
     "output_type": "stream",
     "text": [
      "# of total edges in FCN : 1705223\n",
      "working on delta=240.0\n"
     ]
    },
    {
     "name": "stderr",
     "output_type": "stream",
     "text": [
      "100%|██████████| 18598/18598 [00:03<00:00, 4857.80it/s]\n"
     ]
    },
    {
     "name": "stdout",
     "output_type": "stream",
     "text": [
      "# of total edges in FCN : 1575431\n",
      "working on delta=270.0\n"
     ]
    },
    {
     "name": "stderr",
     "output_type": "stream",
     "text": [
      "100%|██████████| 18598/18598 [00:03<00:00, 4931.98it/s]\n"
     ]
    },
    {
     "name": "stdout",
     "output_type": "stream",
     "text": [
      "# of total edges in FCN : 1453469\n",
      "working on delta=300.0\n"
     ]
    },
    {
     "name": "stderr",
     "output_type": "stream",
     "text": [
      "100%|██████████| 18598/18598 [00:03<00:00, 4667.54it/s]\n"
     ]
    },
    {
     "name": "stdout",
     "output_type": "stream",
     "text": [
      "# of total edges in FCN : 1328549\n",
      "working on delta=330.0\n"
     ]
    },
    {
     "name": "stderr",
     "output_type": "stream",
     "text": [
      "100%|██████████| 18598/18598 [00:03<00:00, 4972.64it/s]\n"
     ]
    },
    {
     "name": "stdout",
     "output_type": "stream",
     "text": [
      "# of total edges in FCN : 1208324\n",
      "working on delta=360.0\n"
     ]
    },
    {
     "name": "stderr",
     "output_type": "stream",
     "text": [
      "100%|██████████| 18598/18598 [00:03<00:00, 5000.19it/s]\n"
     ]
    },
    {
     "name": "stdout",
     "output_type": "stream",
     "text": [
      "# of total edges in FCN : 1096623\n",
      "working on delta=390.0\n"
     ]
    },
    {
     "name": "stderr",
     "output_type": "stream",
     "text": [
      "100%|██████████| 18598/18598 [00:03<00:00, 5017.75it/s]\n"
     ]
    },
    {
     "name": "stdout",
     "output_type": "stream",
     "text": [
      "# of total edges in FCN : 988444\n",
      "working on delta=420.0\n"
     ]
    },
    {
     "name": "stderr",
     "output_type": "stream",
     "text": [
      "100%|██████████| 18598/18598 [00:03<00:00, 5067.26it/s]\n"
     ]
    },
    {
     "name": "stdout",
     "output_type": "stream",
     "text": [
      "# of total edges in FCN : 884811\n",
      "working on delta=450.0\n"
     ]
    },
    {
     "name": "stderr",
     "output_type": "stream",
     "text": [
      "100%|██████████| 18598/18598 [00:03<00:00, 5044.10it/s]\n"
     ]
    },
    {
     "name": "stdout",
     "output_type": "stream",
     "text": [
      "# of total edges in FCN : 786696\n",
      "working on delta=480.0\n"
     ]
    },
    {
     "name": "stderr",
     "output_type": "stream",
     "text": [
      "100%|██████████| 18598/18598 [00:03<00:00, 5114.33it/s]\n"
     ]
    },
    {
     "name": "stdout",
     "output_type": "stream",
     "text": [
      "# of total edges in FCN : 697507\n",
      "working on delta=510.0\n"
     ]
    },
    {
     "name": "stderr",
     "output_type": "stream",
     "text": [
      "100%|██████████| 18598/18598 [00:03<00:00, 4902.29it/s]\n"
     ]
    },
    {
     "name": "stdout",
     "output_type": "stream",
     "text": [
      "# of total edges in FCN : 613136\n",
      "working on delta=540.0\n"
     ]
    },
    {
     "name": "stderr",
     "output_type": "stream",
     "text": [
      "100%|██████████| 18598/18598 [00:03<00:00, 5165.25it/s]\n"
     ]
    },
    {
     "name": "stdout",
     "output_type": "stream",
     "text": [
      "# of total edges in FCN : 535625\n",
      "working on delta=570.0\n"
     ]
    },
    {
     "name": "stderr",
     "output_type": "stream",
     "text": [
      "100%|██████████| 18598/18598 [00:03<00:00, 5184.34it/s]\n"
     ]
    },
    {
     "name": "stdout",
     "output_type": "stream",
     "text": [
      "# of total edges in FCN : 463146\n",
      "working on delta=600.0\n"
     ]
    },
    {
     "name": "stderr",
     "output_type": "stream",
     "text": [
      "100%|██████████| 18598/18598 [00:03<00:00, 5200.30it/s]\n"
     ]
    },
    {
     "name": "stdout",
     "output_type": "stream",
     "text": [
      "# of total edges in FCN : 396389\n",
      "working on delta=630.0\n"
     ]
    },
    {
     "name": "stderr",
     "output_type": "stream",
     "text": [
      "100%|██████████| 18598/18598 [00:03<00:00, 5209.70it/s]\n"
     ]
    },
    {
     "name": "stdout",
     "output_type": "stream",
     "text": [
      "# of total edges in FCN : 332966\n",
      "working on delta=660.0\n"
     ]
    },
    {
     "name": "stderr",
     "output_type": "stream",
     "text": [
      "100%|██████████| 18598/18598 [00:03<00:00, 5238.39it/s]\n"
     ]
    },
    {
     "name": "stdout",
     "output_type": "stream",
     "text": [
      "# of total edges in FCN : 274379\n",
      "working on delta=690.0\n"
     ]
    },
    {
     "name": "stderr",
     "output_type": "stream",
     "text": [
      "100%|██████████| 18598/18598 [00:03<00:00, 5018.41it/s]\n"
     ]
    },
    {
     "name": "stdout",
     "output_type": "stream",
     "text": [
      "# of total edges in FCN : 222958\n",
      "working on delta=720.0\n"
     ]
    },
    {
     "name": "stderr",
     "output_type": "stream",
     "text": [
      "100%|██████████| 18598/18598 [00:03<00:00, 5273.57it/s]\n"
     ]
    },
    {
     "name": "stdout",
     "output_type": "stream",
     "text": [
      "# of total edges in FCN : 173888\n",
      "working on delta=750.0\n"
     ]
    },
    {
     "name": "stderr",
     "output_type": "stream",
     "text": [
      "100%|██████████| 18598/18598 [00:03<00:00, 5290.10it/s]\n"
     ]
    },
    {
     "name": "stdout",
     "output_type": "stream",
     "text": [
      "# of total edges in FCN : 131101\n",
      "working on delta=780.0\n"
     ]
    },
    {
     "name": "stderr",
     "output_type": "stream",
     "text": [
      "100%|██████████| 18598/18598 [00:03<00:00, 5302.68it/s]\n"
     ]
    },
    {
     "name": "stdout",
     "output_type": "stream",
     "text": [
      "# of total edges in FCN : 96902\n",
      "working on delta=810.0\n"
     ]
    },
    {
     "name": "stderr",
     "output_type": "stream",
     "text": [
      "100%|██████████| 18598/18598 [00:03<00:00, 5309.28it/s]\n"
     ]
    },
    {
     "name": "stdout",
     "output_type": "stream",
     "text": [
      "# of total edges in FCN : 68955\n",
      "working on delta=840.0\n"
     ]
    },
    {
     "name": "stderr",
     "output_type": "stream",
     "text": [
      "100%|██████████| 18598/18598 [00:03<00:00, 5313.69it/s]\n"
     ]
    },
    {
     "name": "stdout",
     "output_type": "stream",
     "text": [
      "# of total edges in FCN : 44852\n",
      "working on delta=870.0\n"
     ]
    },
    {
     "name": "stderr",
     "output_type": "stream",
     "text": [
      "100%|██████████| 18598/18598 [00:03<00:00, 5325.88it/s]\n"
     ]
    },
    {
     "name": "stdout",
     "output_type": "stream",
     "text": [
      "# of total edges in FCN : 27572\n",
      "working on delta=900.0\n"
     ]
    },
    {
     "name": "stderr",
     "output_type": "stream",
     "text": [
      "100%|██████████| 18598/18598 [00:03<00:00, 5109.55it/s]\n"
     ]
    },
    {
     "name": "stdout",
     "output_type": "stream",
     "text": [
      "# of total edges in FCN : 16125\n",
      "working on delta=930.0\n"
     ]
    },
    {
     "name": "stderr",
     "output_type": "stream",
     "text": [
      "100%|██████████| 18598/18598 [00:03<00:00, 5328.77it/s]\n"
     ]
    },
    {
     "name": "stdout",
     "output_type": "stream",
     "text": [
      "# of total edges in FCN : 7807\n",
      "working on delta=960.0\n"
     ]
    },
    {
     "name": "stderr",
     "output_type": "stream",
     "text": [
      "100%|██████████| 18598/18598 [00:03<00:00, 5330.19it/s]\n"
     ]
    },
    {
     "name": "stdout",
     "output_type": "stream",
     "text": [
      "# of total edges in FCN : 3768\n",
      "working on delta=990.0\n"
     ]
    },
    {
     "name": "stderr",
     "output_type": "stream",
     "text": [
      "100%|██████████| 18598/18598 [00:03<00:00, 5332.52it/s]\n"
     ]
    },
    {
     "name": "stdout",
     "output_type": "stream",
     "text": [
      "# of total edges in FCN : 1625\n",
      "working on delta=1020.0\n"
     ]
    },
    {
     "name": "stderr",
     "output_type": "stream",
     "text": [
      "100%|██████████| 18598/18598 [00:03<00:00, 5332.51it/s]\n"
     ]
    },
    {
     "name": "stdout",
     "output_type": "stream",
     "text": [
      "# of total edges in FCN : 620\n",
      "working on delta=1050.0\n"
     ]
    },
    {
     "name": "stderr",
     "output_type": "stream",
     "text": [
      "100%|██████████| 18598/18598 [00:03<00:00, 5333.14it/s]\n"
     ]
    },
    {
     "name": "stdout",
     "output_type": "stream",
     "text": [
      "# of total edges in FCN : 128\n",
      "working on delta=1080.0\n"
     ]
    },
    {
     "name": "stderr",
     "output_type": "stream",
     "text": [
      "100%|██████████| 18598/18598 [00:03<00:00, 5085.86it/s]\n"
     ]
    },
    {
     "name": "stdout",
     "output_type": "stream",
     "text": [
      "# of total edges in FCN : 14\n",
      "working on delta=1110.0\n"
     ]
    },
    {
     "name": "stderr",
     "output_type": "stream",
     "text": [
      "100%|██████████| 18598/18598 [00:03<00:00, 5309.61it/s]\n"
     ]
    },
    {
     "name": "stdout",
     "output_type": "stream",
     "text": [
      "# of total edges in FCN : 1\n",
      "working on delta=1140.0\n"
     ]
    },
    {
     "name": "stderr",
     "output_type": "stream",
     "text": [
      "100%|██████████| 18598/18598 [00:03<00:00, 5335.45it/s]\n"
     ]
    },
    {
     "name": "stdout",
     "output_type": "stream",
     "text": [
      "# of total edges in FCN : 0\n",
      "working on delta=1170.0\n"
     ]
    },
    {
     "name": "stderr",
     "output_type": "stream",
     "text": [
      "100%|██████████| 18598/18598 [00:03<00:00, 5335.02it/s]\n"
     ]
    },
    {
     "name": "stdout",
     "output_type": "stream",
     "text": [
      "# of total edges in FCN : 0\n",
      "working on delta=1200.0\n"
     ]
    },
    {
     "name": "stderr",
     "output_type": "stream",
     "text": [
      "100%|██████████| 18598/18598 [00:03<00:00, 5339.37it/s]\n"
     ]
    },
    {
     "name": "stdout",
     "output_type": "stream",
     "text": [
      "# of total edges in FCN : 0\n",
      "working on config 3\n",
      "working on delta=0.0\n"
     ]
    },
    {
     "name": "stderr",
     "output_type": "stream",
     "text": [
      "100%|██████████| 18598/18598 [00:03<00:00, 4654.75it/s]\n"
     ]
    },
    {
     "name": "stdout",
     "output_type": "stream",
     "text": [
      "# of total edges in FCN : 2747385\n",
      "working on delta=30.0\n"
     ]
    },
    {
     "name": "stderr",
     "output_type": "stream",
     "text": [
      "100%|██████████| 18598/18598 [00:04<00:00, 4597.51it/s]\n"
     ]
    },
    {
     "name": "stdout",
     "output_type": "stream",
     "text": [
      "# of total edges in FCN : 2575627\n",
      "working on delta=60.0\n"
     ]
    },
    {
     "name": "stderr",
     "output_type": "stream",
     "text": [
      "100%|██████████| 18598/18598 [00:04<00:00, 4431.13it/s]\n"
     ]
    },
    {
     "name": "stdout",
     "output_type": "stream",
     "text": [
      "# of total edges in FCN : 2378933\n",
      "working on delta=90.0\n"
     ]
    },
    {
     "name": "stderr",
     "output_type": "stream",
     "text": [
      "100%|██████████| 18598/18598 [00:03<00:00, 4750.47it/s]\n"
     ]
    },
    {
     "name": "stdout",
     "output_type": "stream",
     "text": [
      "# of total edges in FCN : 2198998\n",
      "working on delta=120.0\n"
     ]
    },
    {
     "name": "stderr",
     "output_type": "stream",
     "text": [
      "100%|██████████| 18598/18598 [00:03<00:00, 4786.79it/s]\n"
     ]
    },
    {
     "name": "stdout",
     "output_type": "stream",
     "text": [
      "# of total edges in FCN : 2047561\n",
      "working on delta=150.0\n"
     ]
    },
    {
     "name": "stderr",
     "output_type": "stream",
     "text": [
      "100%|██████████| 18598/18598 [00:03<00:00, 4777.31it/s]\n"
     ]
    },
    {
     "name": "stdout",
     "output_type": "stream",
     "text": [
      "# of total edges in FCN : 1899531\n",
      "working on delta=180.0\n"
     ]
    },
    {
     "name": "stderr",
     "output_type": "stream",
     "text": [
      "100%|██████████| 18598/18598 [00:03<00:00, 4819.21it/s]\n"
     ]
    },
    {
     "name": "stdout",
     "output_type": "stream",
     "text": [
      "# of total edges in FCN : 1749425\n",
      "working on delta=210.0\n"
     ]
    },
    {
     "name": "stderr",
     "output_type": "stream",
     "text": [
      "100%|██████████| 18598/18598 [00:03<00:00, 4888.61it/s]\n"
     ]
    },
    {
     "name": "stdout",
     "output_type": "stream",
     "text": [
      "# of total edges in FCN : 1611803\n",
      "working on delta=240.0\n"
     ]
    },
    {
     "name": "stderr",
     "output_type": "stream",
     "text": [
      "100%|██████████| 18598/18598 [00:04<00:00, 4638.90it/s]\n"
     ]
    },
    {
     "name": "stdout",
     "output_type": "stream",
     "text": [
      "# of total edges in FCN : 1487650\n",
      "working on delta=270.0\n"
     ]
    },
    {
     "name": "stderr",
     "output_type": "stream",
     "text": [
      "100%|██████████| 18598/18598 [00:03<00:00, 4955.88it/s]\n"
     ]
    },
    {
     "name": "stdout",
     "output_type": "stream",
     "text": [
      "# of total edges in FCN : 1364972\n",
      "working on delta=300.0\n"
     ]
    },
    {
     "name": "stderr",
     "output_type": "stream",
     "text": [
      "100%|██████████| 18598/18598 [00:03<00:00, 4970.73it/s]\n"
     ]
    },
    {
     "name": "stdout",
     "output_type": "stream",
     "text": [
      "# of total edges in FCN : 1243054\n",
      "working on delta=330.0\n"
     ]
    },
    {
     "name": "stderr",
     "output_type": "stream",
     "text": [
      "100%|██████████| 18598/18598 [00:03<00:00, 4972.85it/s]\n"
     ]
    },
    {
     "name": "stdout",
     "output_type": "stream",
     "text": [
      "# of total edges in FCN : 1128596\n",
      "working on delta=360.0\n"
     ]
    },
    {
     "name": "stderr",
     "output_type": "stream",
     "text": [
      "100%|██████████| 18598/18598 [00:03<00:00, 5027.34it/s]\n"
     ]
    },
    {
     "name": "stdout",
     "output_type": "stream",
     "text": [
      "# of total edges in FCN : 1019200\n",
      "working on delta=390.0\n"
     ]
    },
    {
     "name": "stderr",
     "output_type": "stream",
     "text": [
      "100%|██████████| 18598/18598 [00:03<00:00, 5041.95it/s]\n"
     ]
    },
    {
     "name": "stdout",
     "output_type": "stream",
     "text": [
      "# of total edges in FCN : 915675\n",
      "working on delta=420.0\n"
     ]
    },
    {
     "name": "stderr",
     "output_type": "stream",
     "text": [
      "100%|██████████| 18598/18598 [00:03<00:00, 5092.49it/s]\n"
     ]
    },
    {
     "name": "stdout",
     "output_type": "stream",
     "text": [
      "# of total edges in FCN : 816681\n",
      "working on delta=450.0\n"
     ]
    },
    {
     "name": "stderr",
     "output_type": "stream",
     "text": [
      "100%|██████████| 18598/18598 [00:03<00:00, 4877.39it/s]\n"
     ]
    },
    {
     "name": "stdout",
     "output_type": "stream",
     "text": [
      "# of total edges in FCN : 724497\n",
      "working on delta=480.0\n"
     ]
    },
    {
     "name": "stderr",
     "output_type": "stream",
     "text": [
      "100%|██████████| 18598/18598 [00:03<00:00, 5146.32it/s]\n"
     ]
    },
    {
     "name": "stdout",
     "output_type": "stream",
     "text": [
      "# of total edges in FCN : 638707\n",
      "working on delta=510.0\n"
     ]
    },
    {
     "name": "stderr",
     "output_type": "stream",
     "text": [
      "100%|██████████| 18598/18598 [00:03<00:00, 5157.35it/s]\n"
     ]
    },
    {
     "name": "stdout",
     "output_type": "stream",
     "text": [
      "# of total edges in FCN : 559917\n",
      "working on delta=540.0\n"
     ]
    },
    {
     "name": "stderr",
     "output_type": "stream",
     "text": [
      "100%|██████████| 18598/18598 [00:03<00:00, 5175.09it/s]\n"
     ]
    },
    {
     "name": "stdout",
     "output_type": "stream",
     "text": [
      "# of total edges in FCN : 485783\n",
      "working on delta=570.0\n"
     ]
    },
    {
     "name": "stderr",
     "output_type": "stream",
     "text": [
      "100%|██████████| 18598/18598 [00:03<00:00, 5189.23it/s]\n"
     ]
    },
    {
     "name": "stdout",
     "output_type": "stream",
     "text": [
      "# of total edges in FCN : 416801\n",
      "working on delta=600.0\n"
     ]
    },
    {
     "name": "stderr",
     "output_type": "stream",
     "text": [
      "100%|██████████| 18598/18598 [00:03<00:00, 5221.00it/s]\n"
     ]
    },
    {
     "name": "stdout",
     "output_type": "stream",
     "text": [
      "# of total edges in FCN : 352706\n",
      "working on delta=630.0\n"
     ]
    },
    {
     "name": "stderr",
     "output_type": "stream",
     "text": [
      "100%|██████████| 18598/18598 [00:03<00:00, 5001.56it/s]\n"
     ]
    },
    {
     "name": "stdout",
     "output_type": "stream",
     "text": [
      "# of total edges in FCN : 293138\n",
      "working on delta=660.0\n"
     ]
    },
    {
     "name": "stderr",
     "output_type": "stream",
     "text": [
      "100%|██████████| 18598/18598 [00:03<00:00, 5258.85it/s]\n"
     ]
    },
    {
     "name": "stdout",
     "output_type": "stream",
     "text": [
      "# of total edges in FCN : 238858\n",
      "working on delta=690.0\n"
     ]
    },
    {
     "name": "stderr",
     "output_type": "stream",
     "text": [
      "100%|██████████| 18598/18598 [00:03<00:00, 5272.11it/s]\n"
     ]
    },
    {
     "name": "stdout",
     "output_type": "stream",
     "text": [
      "# of total edges in FCN : 189420\n",
      "working on delta=720.0\n"
     ]
    },
    {
     "name": "stderr",
     "output_type": "stream",
     "text": [
      "100%|██████████| 18598/18598 [00:03<00:00, 5288.19it/s]\n"
     ]
    },
    {
     "name": "stdout",
     "output_type": "stream",
     "text": [
      "# of total edges in FCN : 145073\n",
      "working on delta=750.0\n"
     ]
    },
    {
     "name": "stderr",
     "output_type": "stream",
     "text": [
      "100%|██████████| 18598/18598 [00:03<00:00, 5294.12it/s]\n"
     ]
    },
    {
     "name": "stdout",
     "output_type": "stream",
     "text": [
      "# of total edges in FCN : 108100\n",
      "working on delta=780.0\n"
     ]
    },
    {
     "name": "stderr",
     "output_type": "stream",
     "text": [
      "100%|██████████| 18598/18598 [00:03<00:00, 5301.33it/s]\n"
     ]
    },
    {
     "name": "stdout",
     "output_type": "stream",
     "text": [
      "# of total edges in FCN : 78636\n",
      "working on delta=810.0\n"
     ]
    },
    {
     "name": "stderr",
     "output_type": "stream",
     "text": [
      "100%|██████████| 18598/18598 [00:03<00:00, 5308.27it/s]\n"
     ]
    },
    {
     "name": "stdout",
     "output_type": "stream",
     "text": [
      "# of total edges in FCN : 53944\n",
      "working on delta=840.0\n"
     ]
    },
    {
     "name": "stderr",
     "output_type": "stream",
     "text": [
      "100%|██████████| 18598/18598 [00:03<00:00, 5080.52it/s]\n"
     ]
    },
    {
     "name": "stdout",
     "output_type": "stream",
     "text": [
      "# of total edges in FCN : 34518\n",
      "working on delta=870.0\n"
     ]
    },
    {
     "name": "stderr",
     "output_type": "stream",
     "text": [
      "100%|██████████| 18598/18598 [00:03<00:00, 5322.06it/s]\n"
     ]
    },
    {
     "name": "stdout",
     "output_type": "stream",
     "text": [
      "# of total edges in FCN : 20902\n",
      "working on delta=900.0\n"
     ]
    },
    {
     "name": "stderr",
     "output_type": "stream",
     "text": [
      "100%|██████████| 18598/18598 [00:03<00:00, 5305.54it/s]\n"
     ]
    },
    {
     "name": "stdout",
     "output_type": "stream",
     "text": [
      "# of total edges in FCN : 11330\n",
      "working on delta=930.0\n"
     ]
    },
    {
     "name": "stderr",
     "output_type": "stream",
     "text": [
      "100%|██████████| 18598/18598 [00:03<00:00, 5291.48it/s]\n"
     ]
    },
    {
     "name": "stdout",
     "output_type": "stream",
     "text": [
      "# of total edges in FCN : 5481\n",
      "working on delta=960.0\n"
     ]
    },
    {
     "name": "stderr",
     "output_type": "stream",
     "text": [
      "100%|██████████| 18598/18598 [00:03<00:00, 5321.53it/s]\n"
     ]
    },
    {
     "name": "stdout",
     "output_type": "stream",
     "text": [
      "# of total edges in FCN : 2334\n",
      "working on delta=990.0\n"
     ]
    },
    {
     "name": "stderr",
     "output_type": "stream",
     "text": [
      "100%|██████████| 18598/18598 [00:03<00:00, 5257.32it/s]\n"
     ]
    },
    {
     "name": "stdout",
     "output_type": "stream",
     "text": [
      "# of total edges in FCN : 805\n",
      "working on delta=1020.0\n"
     ]
    },
    {
     "name": "stderr",
     "output_type": "stream",
     "text": [
      "100%|██████████| 18598/18598 [00:03<00:00, 5031.42it/s]\n"
     ]
    },
    {
     "name": "stdout",
     "output_type": "stream",
     "text": [
      "# of total edges in FCN : 199\n",
      "working on delta=1050.0\n"
     ]
    },
    {
     "name": "stderr",
     "output_type": "stream",
     "text": [
      "100%|██████████| 18598/18598 [00:03<00:00, 5310.43it/s]\n"
     ]
    },
    {
     "name": "stdout",
     "output_type": "stream",
     "text": [
      "# of total edges in FCN : 26\n",
      "working on delta=1080.0\n"
     ]
    },
    {
     "name": "stderr",
     "output_type": "stream",
     "text": [
      "100%|██████████| 18598/18598 [00:03<00:00, 5307.67it/s]\n"
     ]
    },
    {
     "name": "stdout",
     "output_type": "stream",
     "text": [
      "# of total edges in FCN : 4\n",
      "working on delta=1110.0\n"
     ]
    },
    {
     "name": "stderr",
     "output_type": "stream",
     "text": [
      "100%|██████████| 18598/18598 [00:03<00:00, 5291.88it/s]\n"
     ]
    },
    {
     "name": "stdout",
     "output_type": "stream",
     "text": [
      "# of total edges in FCN : 0\n",
      "working on delta=1140.0\n"
     ]
    },
    {
     "name": "stderr",
     "output_type": "stream",
     "text": [
      "100%|██████████| 18598/18598 [00:03<00:00, 5310.53it/s]\n"
     ]
    },
    {
     "name": "stdout",
     "output_type": "stream",
     "text": [
      "# of total edges in FCN : 0\n",
      "working on delta=1170.0\n"
     ]
    },
    {
     "name": "stderr",
     "output_type": "stream",
     "text": [
      "100%|██████████| 18598/18598 [00:03<00:00, 5320.41it/s]\n"
     ]
    },
    {
     "name": "stdout",
     "output_type": "stream",
     "text": [
      "# of total edges in FCN : 0\n",
      "working on delta=1200.0\n"
     ]
    },
    {
     "name": "stderr",
     "output_type": "stream",
     "text": [
      "100%|██████████| 18598/18598 [00:03<00:00, 5303.06it/s]\n"
     ]
    },
    {
     "name": "stdout",
     "output_type": "stream",
     "text": [
      "# of total edges in FCN : 0\n",
      "working on config 4\n",
      "working on delta=0.0\n"
     ]
    },
    {
     "name": "stderr",
     "output_type": "stream",
     "text": [
      "100%|██████████| 18598/18598 [00:04<00:00, 4357.92it/s]\n"
     ]
    },
    {
     "name": "stdout",
     "output_type": "stream",
     "text": [
      "# of total edges in FCN : 2615420\n",
      "working on delta=30.0\n"
     ]
    },
    {
     "name": "stderr",
     "output_type": "stream",
     "text": [
      "100%|██████████| 18598/18598 [00:04<00:00, 4554.27it/s]\n"
     ]
    },
    {
     "name": "stdout",
     "output_type": "stream",
     "text": [
      "# of total edges in FCN : 2439171\n",
      "working on delta=60.0\n"
     ]
    },
    {
     "name": "stderr",
     "output_type": "stream",
     "text": [
      "100%|██████████| 18598/18598 [00:04<00:00, 4575.45it/s]\n"
     ]
    },
    {
     "name": "stdout",
     "output_type": "stream",
     "text": [
      "# of total edges in FCN : 2264085\n",
      "working on delta=90.0\n"
     ]
    },
    {
     "name": "stderr",
     "output_type": "stream",
     "text": [
      "100%|██████████| 18598/18598 [00:04<00:00, 4642.64it/s]\n"
     ]
    },
    {
     "name": "stdout",
     "output_type": "stream",
     "text": [
      "# of total edges in FCN : 2093265\n",
      "working on delta=120.0\n"
     ]
    },
    {
     "name": "stderr",
     "output_type": "stream",
     "text": [
      "100%|██████████| 18598/18598 [00:04<00:00, 4648.07it/s]\n"
     ]
    },
    {
     "name": "stdout",
     "output_type": "stream",
     "text": [
      "# of total edges in FCN : 1938738\n",
      "working on delta=150.0\n"
     ]
    },
    {
     "name": "stderr",
     "output_type": "stream",
     "text": [
      "100%|██████████| 18598/18598 [00:03<00:00, 4700.85it/s]\n"
     ]
    },
    {
     "name": "stdout",
     "output_type": "stream",
     "text": [
      "# of total edges in FCN : 1794420\n",
      "working on delta=180.0\n"
     ]
    },
    {
     "name": "stderr",
     "output_type": "stream",
     "text": [
      "100%|██████████| 18598/18598 [00:04<00:00, 4420.11it/s]\n"
     ]
    },
    {
     "name": "stdout",
     "output_type": "stream",
     "text": [
      "# of total edges in FCN : 1656005\n",
      "working on delta=210.0\n"
     ]
    },
    {
     "name": "stderr",
     "output_type": "stream",
     "text": [
      "100%|██████████| 18598/18598 [00:03<00:00, 4823.17it/s]\n"
     ]
    },
    {
     "name": "stdout",
     "output_type": "stream",
     "text": [
      "# of total edges in FCN : 1524022\n",
      "working on delta=240.0\n"
     ]
    },
    {
     "name": "stderr",
     "output_type": "stream",
     "text": [
      "100%|██████████| 18598/18598 [00:03<00:00, 4813.24it/s]\n"
     ]
    },
    {
     "name": "stdout",
     "output_type": "stream",
     "text": [
      "# of total edges in FCN : 1399153\n",
      "working on delta=270.0\n"
     ]
    },
    {
     "name": "stderr",
     "output_type": "stream",
     "text": [
      "100%|██████████| 18598/18598 [00:03<00:00, 4817.15it/s]\n"
     ]
    },
    {
     "name": "stdout",
     "output_type": "stream",
     "text": [
      "# of total edges in FCN : 1279477\n",
      "working on delta=300.0\n"
     ]
    },
    {
     "name": "stderr",
     "output_type": "stream",
     "text": [
      "100%|██████████| 18598/18598 [00:03<00:00, 4855.86it/s]\n"
     ]
    },
    {
     "name": "stdout",
     "output_type": "stream",
     "text": [
      "# of total edges in FCN : 1163326\n",
      "working on delta=330.0\n"
     ]
    },
    {
     "name": "stderr",
     "output_type": "stream",
     "text": [
      "100%|██████████| 18598/18598 [00:03<00:00, 4821.84it/s]\n"
     ]
    },
    {
     "name": "stdout",
     "output_type": "stream",
     "text": [
      "# of total edges in FCN : 1051173\n",
      "working on delta=360.0\n"
     ]
    },
    {
     "name": "stderr",
     "output_type": "stream",
     "text": [
      "100%|██████████| 18598/18598 [00:03<00:00, 4928.77it/s]\n"
     ]
    },
    {
     "name": "stdout",
     "output_type": "stream",
     "text": [
      "# of total edges in FCN : 946431\n",
      "working on delta=390.0\n"
     ]
    },
    {
     "name": "stderr",
     "output_type": "stream",
     "text": [
      "100%|██████████| 18598/18598 [00:03<00:00, 4713.49it/s]\n"
     ]
    },
    {
     "name": "stdout",
     "output_type": "stream",
     "text": [
      "# of total edges in FCN : 847545\n",
      "working on delta=420.0\n"
     ]
    },
    {
     "name": "stderr",
     "output_type": "stream",
     "text": [
      "100%|██████████| 18598/18598 [00:03<00:00, 4954.71it/s]\n"
     ]
    },
    {
     "name": "stdout",
     "output_type": "stream",
     "text": [
      "# of total edges in FCN : 754482\n",
      "working on delta=450.0\n"
     ]
    },
    {
     "name": "stderr",
     "output_type": "stream",
     "text": [
      "100%|██████████| 18598/18598 [00:03<00:00, 4989.96it/s]\n"
     ]
    },
    {
     "name": "stdout",
     "output_type": "stream",
     "text": [
      "# of total edges in FCN : 665697\n",
      "working on delta=480.0\n"
     ]
    },
    {
     "name": "stderr",
     "output_type": "stream",
     "text": [
      "100%|██████████| 18598/18598 [00:03<00:00, 5012.36it/s]\n"
     ]
    },
    {
     "name": "stdout",
     "output_type": "stream",
     "text": [
      "# of total edges in FCN : 585488\n",
      "working on delta=510.0\n"
     ]
    },
    {
     "name": "stderr",
     "output_type": "stream",
     "text": [
      "100%|██████████| 18598/18598 [00:03<00:00, 5028.47it/s]\n"
     ]
    },
    {
     "name": "stdout",
     "output_type": "stream",
     "text": [
      "# of total edges in FCN : 510075\n",
      "working on delta=540.0\n"
     ]
    },
    {
     "name": "stderr",
     "output_type": "stream",
     "text": [
      "100%|██████████| 18598/18598 [00:03<00:00, 5076.02it/s]\n"
     ]
    },
    {
     "name": "stdout",
     "output_type": "stream",
     "text": [
      "# of total edges in FCN : 439438\n",
      "working on delta=570.0\n"
     ]
    },
    {
     "name": "stderr",
     "output_type": "stream",
     "text": [
      "100%|██████████| 18598/18598 [00:03<00:00, 4830.25it/s]\n"
     ]
    },
    {
     "name": "stdout",
     "output_type": "stream",
     "text": [
      "# of total edges in FCN : 373118\n",
      "working on delta=600.0\n"
     ]
    },
    {
     "name": "stderr",
     "output_type": "stream",
     "text": [
      "100%|██████████| 18598/18598 [00:03<00:00, 5099.29it/s]\n"
     ]
    },
    {
     "name": "stdout",
     "output_type": "stream",
     "text": [
      "# of total edges in FCN : 312878\n",
      "working on delta=630.0\n"
     ]
    },
    {
     "name": "stderr",
     "output_type": "stream",
     "text": [
      "100%|██████████| 18598/18598 [00:03<00:00, 5096.80it/s]\n"
     ]
    },
    {
     "name": "stdout",
     "output_type": "stream",
     "text": [
      "# of total edges in FCN : 257617\n",
      "working on delta=660.0\n"
     ]
    },
    {
     "name": "stderr",
     "output_type": "stream",
     "text": [
      "100%|██████████| 18598/18598 [00:03<00:00, 5139.41it/s]\n"
     ]
    },
    {
     "name": "stdout",
     "output_type": "stream",
     "text": [
      "# of total edges in FCN : 205320\n",
      "working on delta=690.0\n"
     ]
    },
    {
     "name": "stderr",
     "output_type": "stream",
     "text": [
      "100%|██████████| 18598/18598 [00:03<00:00, 5152.14it/s]\n"
     ]
    },
    {
     "name": "stdout",
     "output_type": "stream",
     "text": [
      "# of total edges in FCN : 160605\n",
      "working on delta=720.0\n"
     ]
    },
    {
     "name": "stderr",
     "output_type": "stream",
     "text": [
      "100%|██████████| 18598/18598 [00:03<00:00, 5165.53it/s]\n"
     ]
    },
    {
     "name": "stdout",
     "output_type": "stream",
     "text": [
      "# of total edges in FCN : 122072\n",
      "working on delta=750.0\n"
     ]
    },
    {
     "name": "stderr",
     "output_type": "stream",
     "text": [
      "100%|██████████| 18598/18598 [00:03<00:00, 5221.98it/s]\n"
     ]
    },
    {
     "name": "stdout",
     "output_type": "stream",
     "text": [
      "# of total edges in FCN : 89834\n",
      "working on delta=780.0\n"
     ]
    },
    {
     "name": "stderr",
     "output_type": "stream",
     "text": [
      "100%|██████████| 18598/18598 [00:03<00:00, 4993.35it/s]\n"
     ]
    },
    {
     "name": "stdout",
     "output_type": "stream",
     "text": [
      "# of total edges in FCN : 63625\n",
      "working on delta=810.0\n"
     ]
    },
    {
     "name": "stderr",
     "output_type": "stream",
     "text": [
      "100%|██████████| 18598/18598 [00:03<00:00, 5236.67it/s]\n"
     ]
    },
    {
     "name": "stdout",
     "output_type": "stream",
     "text": [
      "# of total edges in FCN : 43610\n",
      "working on delta=840.0\n"
     ]
    },
    {
     "name": "stderr",
     "output_type": "stream",
     "text": [
      "100%|██████████| 18598/18598 [00:03<00:00, 5316.74it/s]\n"
     ]
    },
    {
     "name": "stdout",
     "output_type": "stream",
     "text": [
      "# of total edges in FCN : 27848\n",
      "working on delta=870.0\n"
     ]
    },
    {
     "name": "stderr",
     "output_type": "stream",
     "text": [
      "100%|██████████| 18598/18598 [00:03<00:00, 5322.79it/s]\n"
     ]
    },
    {
     "name": "stdout",
     "output_type": "stream",
     "text": [
      "# of total edges in FCN : 16107\n",
      "working on delta=900.0\n"
     ]
    },
    {
     "name": "stderr",
     "output_type": "stream",
     "text": [
      "100%|██████████| 18598/18598 [00:03<00:00, 5318.10it/s]\n"
     ]
    },
    {
     "name": "stdout",
     "output_type": "stream",
     "text": [
      "# of total edges in FCN : 9004\n",
      "working on delta=930.0\n"
     ]
    },
    {
     "name": "stderr",
     "output_type": "stream",
     "text": [
      "100%|██████████| 18598/18598 [00:03<00:00, 5326.13it/s]\n"
     ]
    },
    {
     "name": "stdout",
     "output_type": "stream",
     "text": [
      "# of total edges in FCN : 4047\n",
      "working on delta=960.0\n"
     ]
    },
    {
     "name": "stderr",
     "output_type": "stream",
     "text": [
      "100%|██████████| 18598/18598 [00:03<00:00, 5096.89it/s]\n"
     ]
    },
    {
     "name": "stdout",
     "output_type": "stream",
     "text": [
      "# of total edges in FCN : 1514\n",
      "working on delta=990.0\n"
     ]
    },
    {
     "name": "stderr",
     "output_type": "stream",
     "text": [
      "100%|██████████| 18598/18598 [00:03<00:00, 5331.46it/s]\n"
     ]
    },
    {
     "name": "stdout",
     "output_type": "stream",
     "text": [
      "# of total edges in FCN : 384\n",
      "working on delta=1020.0\n"
     ]
    },
    {
     "name": "stderr",
     "output_type": "stream",
     "text": [
      "100%|██████████| 18598/18598 [00:03<00:00, 5329.18it/s]\n"
     ]
    },
    {
     "name": "stdout",
     "output_type": "stream",
     "text": [
      "# of total edges in FCN : 97\n",
      "working on delta=1050.0\n"
     ]
    },
    {
     "name": "stderr",
     "output_type": "stream",
     "text": [
      "100%|██████████| 18598/18598 [00:03<00:00, 5322.40it/s]\n"
     ]
    },
    {
     "name": "stdout",
     "output_type": "stream",
     "text": [
      "# of total edges in FCN : 16\n",
      "working on delta=1080.0\n"
     ]
    },
    {
     "name": "stderr",
     "output_type": "stream",
     "text": [
      "100%|██████████| 18598/18598 [00:03<00:00, 5330.15it/s]\n"
     ]
    },
    {
     "name": "stdout",
     "output_type": "stream",
     "text": [
      "# of total edges in FCN : 3\n",
      "working on delta=1110.0\n"
     ]
    },
    {
     "name": "stderr",
     "output_type": "stream",
     "text": [
      "100%|██████████| 18598/18598 [00:03<00:00, 5326.30it/s]\n"
     ]
    },
    {
     "name": "stdout",
     "output_type": "stream",
     "text": [
      "# of total edges in FCN : 0\n",
      "working on delta=1140.0\n"
     ]
    },
    {
     "name": "stderr",
     "output_type": "stream",
     "text": [
      "100%|██████████| 18598/18598 [00:03<00:00, 5313.75it/s]\n"
     ]
    },
    {
     "name": "stdout",
     "output_type": "stream",
     "text": [
      "# of total edges in FCN : 0\n",
      "working on delta=1170.0\n"
     ]
    },
    {
     "name": "stderr",
     "output_type": "stream",
     "text": [
      "100%|██████████| 18598/18598 [00:03<00:00, 5106.31it/s]\n"
     ]
    },
    {
     "name": "stdout",
     "output_type": "stream",
     "text": [
      "# of total edges in FCN : 0\n",
      "working on delta=1200.0\n"
     ]
    },
    {
     "name": "stderr",
     "output_type": "stream",
     "text": [
      "100%|██████████| 18598/18598 [00:03<00:00, 5329.39it/s]\n"
     ]
    },
    {
     "name": "stdout",
     "output_type": "stream",
     "text": [
      "# of total edges in FCN : 0\n",
      "working on config 5\n",
      "working on delta=0.0\n"
     ]
    },
    {
     "name": "stderr",
     "output_type": "stream",
     "text": [
      "100%|██████████| 18598/18598 [00:03<00:00, 4702.82it/s]\n"
     ]
    },
    {
     "name": "stdout",
     "output_type": "stream",
     "text": [
      "# of total edges in FCN : 2478964\n",
      "working on delta=30.0\n"
     ]
    },
    {
     "name": "stderr",
     "output_type": "stream",
     "text": [
      "100%|██████████| 18598/18598 [00:03<00:00, 4693.10it/s]\n"
     ]
    },
    {
     "name": "stdout",
     "output_type": "stream",
     "text": [
      "# of total edges in FCN : 2324323\n",
      "working on delta=60.0\n"
     ]
    },
    {
     "name": "stderr",
     "output_type": "stream",
     "text": [
      "100%|██████████| 18598/18598 [00:03<00:00, 4650.12it/s]\n"
     ]
    },
    {
     "name": "stdout",
     "output_type": "stream",
     "text": [
      "# of total edges in FCN : 2158352\n",
      "working on delta=90.0\n"
     ]
    },
    {
     "name": "stderr",
     "output_type": "stream",
     "text": [
      "100%|██████████| 18598/18598 [00:03<00:00, 4799.49it/s]\n"
     ]
    },
    {
     "name": "stdout",
     "output_type": "stream",
     "text": [
      "# of total edges in FCN : 1984442\n",
      "working on delta=120.0\n"
     ]
    },
    {
     "name": "stderr",
     "output_type": "stream",
     "text": [
      "100%|██████████| 18598/18598 [00:04<00:00, 4460.05it/s]\n"
     ]
    },
    {
     "name": "stdout",
     "output_type": "stream",
     "text": [
      "# of total edges in FCN : 1833627\n",
      "working on delta=150.0\n"
     ]
    },
    {
     "name": "stderr",
     "output_type": "stream",
     "text": [
      "100%|██████████| 18598/18598 [00:03<00:00, 4854.49it/s]\n"
     ]
    },
    {
     "name": "stdout",
     "output_type": "stream",
     "text": [
      "# of total edges in FCN : 1701000\n",
      "working on delta=180.0\n"
     ]
    },
    {
     "name": "stderr",
     "output_type": "stream",
     "text": [
      "100%|██████████| 18598/18598 [00:03<00:00, 4875.96it/s]\n"
     ]
    },
    {
     "name": "stdout",
     "output_type": "stream",
     "text": [
      "# of total edges in FCN : 1568224\n",
      "working on delta=210.0\n"
     ]
    },
    {
     "name": "stderr",
     "output_type": "stream",
     "text": [
      "100%|██████████| 18598/18598 [00:03<00:00, 4920.37it/s]\n"
     ]
    },
    {
     "name": "stdout",
     "output_type": "stream",
     "text": [
      "# of total edges in FCN : 1435525\n",
      "working on delta=240.0\n"
     ]
    },
    {
     "name": "stderr",
     "output_type": "stream",
     "text": [
      "100%|██████████| 18598/18598 [00:03<00:00, 4904.79it/s]\n"
     ]
    },
    {
     "name": "stdout",
     "output_type": "stream",
     "text": [
      "# of total edges in FCN : 1313658\n",
      "working on delta=270.0\n"
     ]
    },
    {
     "name": "stderr",
     "output_type": "stream",
     "text": [
      "100%|██████████| 18598/18598 [00:03<00:00, 4960.44it/s]\n"
     ]
    },
    {
     "name": "stdout",
     "output_type": "stream",
     "text": [
      "# of total edges in FCN : 1199749\n",
      "working on delta=300.0\n"
     ]
    },
    {
     "name": "stderr",
     "output_type": "stream",
     "text": [
      "100%|██████████| 18598/18598 [00:03<00:00, 5008.95it/s]\n"
     ]
    },
    {
     "name": "stdout",
     "output_type": "stream",
     "text": [
      "# of total edges in FCN : 1085903\n",
      "working on delta=330.0\n"
     ]
    },
    {
     "name": "stderr",
     "output_type": "stream",
     "text": [
      "100%|██████████| 18598/18598 [00:03<00:00, 4757.53it/s]\n"
     ]
    },
    {
     "name": "stdout",
     "output_type": "stream",
     "text": [
      "# of total edges in FCN : 978404\n",
      "working on delta=360.0\n"
     ]
    },
    {
     "name": "stderr",
     "output_type": "stream",
     "text": [
      "100%|██████████| 18598/18598 [00:03<00:00, 5048.53it/s]\n"
     ]
    },
    {
     "name": "stdout",
     "output_type": "stream",
     "text": [
      "# of total edges in FCN : 878301\n",
      "working on delta=390.0\n"
     ]
    },
    {
     "name": "stderr",
     "output_type": "stream",
     "text": [
      "100%|██████████| 18598/18598 [00:03<00:00, 5078.03it/s]\n"
     ]
    },
    {
     "name": "stdout",
     "output_type": "stream",
     "text": [
      "# of total edges in FCN : 785346\n",
      "working on delta=420.0\n"
     ]
    },
    {
     "name": "stderr",
     "output_type": "stream",
     "text": [
      "100%|██████████| 18598/18598 [00:03<00:00, 5100.10it/s]\n"
     ]
    },
    {
     "name": "stdout",
     "output_type": "stream",
     "text": [
      "# of total edges in FCN : 695682\n",
      "working on delta=450.0\n"
     ]
    },
    {
     "name": "stderr",
     "output_type": "stream",
     "text": [
      "100%|██████████| 18598/18598 [00:03<00:00, 5112.88it/s]\n"
     ]
    },
    {
     "name": "stdout",
     "output_type": "stream",
     "text": [
      "# of total edges in FCN : 612478\n",
      "working on delta=480.0\n"
     ]
    },
    {
     "name": "stderr",
     "output_type": "stream",
     "text": [
      "100%|██████████| 18598/18598 [00:03<00:00, 5155.12it/s]\n"
     ]
    },
    {
     "name": "stdout",
     "output_type": "stream",
     "text": [
      "# of total edges in FCN : 535646\n",
      "working on delta=510.0\n"
     ]
    },
    {
     "name": "stderr",
     "output_type": "stream",
     "text": [
      "100%|██████████| 18598/18598 [00:03<00:00, 4919.88it/s]\n"
     ]
    },
    {
     "name": "stdout",
     "output_type": "stream",
     "text": [
      "# of total edges in FCN : 463730\n",
      "working on delta=540.0\n"
     ]
    },
    {
     "name": "stderr",
     "output_type": "stream",
     "text": [
      "100%|██████████| 18598/18598 [00:03<00:00, 5204.01it/s]\n"
     ]
    },
    {
     "name": "stdout",
     "output_type": "stream",
     "text": [
      "# of total edges in FCN : 395755\n",
      "working on delta=570.0\n"
     ]
    },
    {
     "name": "stderr",
     "output_type": "stream",
     "text": [
      "100%|██████████| 18598/18598 [00:03<00:00, 5203.51it/s]\n"
     ]
    },
    {
     "name": "stdout",
     "output_type": "stream",
     "text": [
      "# of total edges in FCN : 333290\n",
      "working on delta=600.0\n"
     ]
    },
    {
     "name": "stderr",
     "output_type": "stream",
     "text": [
      "100%|██████████| 18598/18598 [00:03<00:00, 5237.72it/s]\n"
     ]
    },
    {
     "name": "stdout",
     "output_type": "stream",
     "text": [
      "# of total edges in FCN : 277357\n",
      "working on delta=630.0\n"
     ]
    },
    {
     "name": "stderr",
     "output_type": "stream",
     "text": [
      "100%|██████████| 18598/18598 [00:03<00:00, 5249.43it/s]\n"
     ]
    },
    {
     "name": "stdout",
     "output_type": "stream",
     "text": [
      "# of total edges in FCN : 224079\n",
      "working on delta=660.0\n"
     ]
    },
    {
     "name": "stderr",
     "output_type": "stream",
     "text": [
      "100%|██████████| 18598/18598 [00:03<00:00, 5261.78it/s]\n"
     ]
    },
    {
     "name": "stdout",
     "output_type": "stream",
     "text": [
      "# of total edges in FCN : 176505\n",
      "working on delta=690.0\n"
     ]
    },
    {
     "name": "stderr",
     "output_type": "stream",
     "text": [
      "100%|██████████| 18598/18598 [00:03<00:00, 5277.11it/s]\n"
     ]
    },
    {
     "name": "stdout",
     "output_type": "stream",
     "text": [
      "# of total edges in FCN : 137604\n",
      "working on delta=720.0\n"
     ]
    },
    {
     "name": "stderr",
     "output_type": "stream",
     "text": [
      "100%|██████████| 18598/18598 [00:03<00:00, 5062.90it/s]\n"
     ]
    },
    {
     "name": "stdout",
     "output_type": "stream",
     "text": [
      "# of total edges in FCN : 103806\n",
      "working on delta=750.0\n"
     ]
    },
    {
     "name": "stderr",
     "output_type": "stream",
     "text": [
      "100%|██████████| 18598/18598 [00:03<00:00, 5300.48it/s]\n"
     ]
    },
    {
     "name": "stdout",
     "output_type": "stream",
     "text": [
      "# of total edges in FCN : 74823\n",
      "working on delta=780.0\n"
     ]
    },
    {
     "name": "stderr",
     "output_type": "stream",
     "text": [
      "100%|██████████| 18598/18598 [00:03<00:00, 5310.69it/s]\n"
     ]
    },
    {
     "name": "stdout",
     "output_type": "stream",
     "text": [
      "# of total edges in FCN : 53291\n",
      "working on delta=810.0\n"
     ]
    },
    {
     "name": "stderr",
     "output_type": "stream",
     "text": [
      "100%|██████████| 18598/18598 [00:03<00:00, 5310.77it/s]\n"
     ]
    },
    {
     "name": "stdout",
     "output_type": "stream",
     "text": [
      "# of total edges in FCN : 36940\n",
      "working on delta=840.0\n"
     ]
    },
    {
     "name": "stderr",
     "output_type": "stream",
     "text": [
      "100%|██████████| 18598/18598 [00:03<00:00, 5316.97it/s]\n"
     ]
    },
    {
     "name": "stdout",
     "output_type": "stream",
     "text": [
      "# of total edges in FCN : 23053\n",
      "working on delta=870.0\n"
     ]
    },
    {
     "name": "stderr",
     "output_type": "stream",
     "text": [
      "100%|██████████| 18598/18598 [00:03<00:00, 5325.84it/s]\n"
     ]
    },
    {
     "name": "stdout",
     "output_type": "stream",
     "text": [
      "# of total edges in FCN : 13781\n",
      "working on delta=900.0\n"
     ]
    },
    {
     "name": "stderr",
     "output_type": "stream",
     "text": [
      "100%|██████████| 18598/18598 [00:03<00:00, 5100.63it/s]\n"
     ]
    },
    {
     "name": "stdout",
     "output_type": "stream",
     "text": [
      "# of total edges in FCN : 7570\n",
      "working on delta=930.0\n"
     ]
    },
    {
     "name": "stderr",
     "output_type": "stream",
     "text": [
      "100%|██████████| 18598/18598 [00:03<00:00, 5342.86it/s]\n"
     ]
    },
    {
     "name": "stdout",
     "output_type": "stream",
     "text": [
      "# of total edges in FCN : 3227\n",
      "working on delta=960.0\n"
     ]
    },
    {
     "name": "stderr",
     "output_type": "stream",
     "text": [
      "100%|██████████| 18598/18598 [00:03<00:00, 5346.10it/s]\n"
     ]
    },
    {
     "name": "stdout",
     "output_type": "stream",
     "text": [
      "# of total edges in FCN : 1093\n",
      "working on delta=990.0\n"
     ]
    },
    {
     "name": "stderr",
     "output_type": "stream",
     "text": [
      "100%|██████████| 18598/18598 [00:03<00:00, 5328.78it/s]\n"
     ]
    },
    {
     "name": "stdout",
     "output_type": "stream",
     "text": [
      "# of total edges in FCN : 282\n",
      "working on delta=1020.0\n"
     ]
    },
    {
     "name": "stderr",
     "output_type": "stream",
     "text": [
      "100%|██████████| 18598/18598 [00:03<00:00, 5343.98it/s]\n"
     ]
    },
    {
     "name": "stdout",
     "output_type": "stream",
     "text": [
      "# of total edges in FCN : 87\n",
      "working on delta=1050.0\n"
     ]
    },
    {
     "name": "stderr",
     "output_type": "stream",
     "text": [
      "100%|██████████| 18598/18598 [00:03<00:00, 5343.38it/s]\n"
     ]
    },
    {
     "name": "stdout",
     "output_type": "stream",
     "text": [
      "# of total edges in FCN : 15\n",
      "working on delta=1080.0\n"
     ]
    },
    {
     "name": "stderr",
     "output_type": "stream",
     "text": [
      "100%|██████████| 18598/18598 [00:03<00:00, 5334.28it/s]\n"
     ]
    },
    {
     "name": "stdout",
     "output_type": "stream",
     "text": [
      "# of total edges in FCN : 3\n",
      "working on delta=1110.0\n"
     ]
    },
    {
     "name": "stderr",
     "output_type": "stream",
     "text": [
      "100%|██████████| 18598/18598 [00:03<00:00, 5118.58it/s]\n"
     ]
    },
    {
     "name": "stdout",
     "output_type": "stream",
     "text": [
      "# of total edges in FCN : 0\n",
      "working on delta=1140.0\n"
     ]
    },
    {
     "name": "stderr",
     "output_type": "stream",
     "text": [
      "100%|██████████| 18598/18598 [00:03<00:00, 5336.25it/s]\n"
     ]
    },
    {
     "name": "stdout",
     "output_type": "stream",
     "text": [
      "# of total edges in FCN : 0\n",
      "working on delta=1170.0\n"
     ]
    },
    {
     "name": "stderr",
     "output_type": "stream",
     "text": [
      "100%|██████████| 18598/18598 [00:03<00:00, 5340.70it/s]\n"
     ]
    },
    {
     "name": "stdout",
     "output_type": "stream",
     "text": [
      "# of total edges in FCN : 0\n",
      "working on delta=1200.0\n"
     ]
    },
    {
     "name": "stderr",
     "output_type": "stream",
     "text": [
      "100%|██████████| 18598/18598 [00:03<00:00, 5332.55it/s]"
     ]
    },
    {
     "name": "stdout",
     "output_type": "stream",
     "text": [
      "# of total edges in FCN : 0\n"
     ]
    },
    {
     "name": "stderr",
     "output_type": "stream",
     "text": [
      "\n"
     ]
    }
   ],
   "source": [
    "delta_vals = np.linspace(0, 1200, 41)\n",
    "delta_vals\n",
    "\n",
    "configs = {1: {'share': False, 'epsilon': 30},  # here, epsilon is useless\n",
    "           2: {'share': True, 'epsilon': 0},\n",
    "           3: {'share': True, 'epsilon': 30},\n",
    "           4: {'share': True, 'epsilon': 60},\n",
    "           5: {'share': True, 'epsilon': 90},}\n",
    "\n",
    "\n",
    "connection_counts = {1: [], 2: [], 3: [], 4: [], 5: []}\n",
    "multi_carrier_connection_fractions = {1: [], 2: [], 3: [], 4: [], 5: []}\n",
    "\n",
    "\n",
    "flights, origin_airport, destination_airport = preprocess_utils.group_flights_origin_destination(ontime_df)\n",
    "\n",
    "for config_id, config in configs.items():\n",
    "    print(f\"working on config {config_id}\")\n",
    "    share = config['share']\n",
    "    epsilon = config['epsilon']\n",
    "    \n",
    "\n",
    "    for delta in delta_vals:\n",
    "        print(f\"working on delta={delta}\")\n",
    "        connection_count = 0\n",
    "        multi_carrier_connection_count = 0\n",
    "\n",
    "        fcn = preprocess_utils.create_flight_connection_network(flights, origin_airport, delta, delta+epsilon, share)\n",
    "\n",
    "        # count the number of connections\n",
    "        for first_flight, second_flights in fcn.items():\n",
    "            connection_count += len(second_flights)\n",
    "\n",
    "            for second_flight in second_flights:\n",
    "                carrier1 = flights[first_flight][\"carrier\"]\n",
    "                carrier2 = flights[second_flight][\"carrier\"]\n",
    "                if carrier1 != carrier2:\n",
    "                    multi_carrier_connection_count += 1\n",
    "\n",
    "        connection_counts[config_id].append(connection_count)\n",
    "        if connection_count > 0:\n",
    "            multi_carrier_connection_fractions[config_id].append(multi_carrier_connection_count / connection_count)\n",
    "        else:\n",
    "            multi_carrier_connection_fractions[config_id].append(0.)\n",
    "\n",
    "\n",
    "# fcn"
   ]
  },
  {
   "cell_type": "code",
   "execution_count": 15,
   "metadata": {},
   "outputs": [
    {
     "data": {
      "image/png": "[encoded data removed]",
      "text/plain": [
       "<Figure size 1600x600 with 2 Axes>"
      ]
     },
     "metadata": {},
     "output_type": "display_data"
    }
   ],
   "source": [
    "style_config = {1: {\"marker\": \"s\", \"s\": 50, \"label\": \"no cooperation\"},\n",
    "                2: {\"marker\": \"o\", \"s\": 50, \"label\": r\"cooperation, $\\epsilon=\\delta$\"},\n",
    "                3: {\"marker\": \"^\", \"s\": 50, \"label\": r\"cooperation, $\\epsilon=\\delta + 30$\"},\n",
    "                4: {\"marker\": \"p\", \"s\": 50, \"label\": r\"cooperation, $\\epsilon=\\delta + 60$\"},\n",
    "                5: {\"marker\": \"*\", \"s\": 50, \"label\": r\"cooperation, $\\epsilon=\\delta + 90$\"}}\n",
    "\n",
    "fig, ax = plt.subplots(ncols=2, figsize=(16, 6))\n",
    "\n",
    "\n",
    "ax[0].scatter(delta_vals, connection_counts[1], \n",
    "              marker=style_config[1][\"marker\"], s=style_config[1][\"s\"], label=style_config[1][\"label\"])\n",
    "ax[0].scatter(delta_vals, connection_counts[2], \n",
    "              marker=style_config[2][\"marker\"], s=style_config[2][\"s\"], label=style_config[2][\"label\"])\n",
    "ax[0].scatter(delta_vals, connection_counts[3], \n",
    "              marker=style_config[3][\"marker\"], s=style_config[3][\"s\"], label=style_config[3][\"label\"])\n",
    "ax[0].scatter(delta_vals, connection_counts[4], \n",
    "              marker=style_config[4][\"marker\"], s=style_config[4][\"s\"], label=style_config[4][\"label\"])\n",
    "ax[0].scatter(delta_vals, connection_counts[5], \n",
    "              marker=style_config[5][\"marker\"], s=style_config[5][\"s\"], label=style_config[5][\"label\"])\n",
    "\n",
    "ax[0].set_xlabel(\"$\\delta$\", fontsize=25)\n",
    "ax[0].set_ylabel(\"number of connections\", fontsize=25)\n",
    "ax[0].set_yscale('log')\n",
    "ax[0].set_xlim(0, 1200)\n",
    "ax[0].tick_params('both', labelsize=25)\n",
    "ax[0].legend(fontsize=20, handletextpad=0.05)\n",
    "\n",
    "\n",
    "ax[1].scatter(delta_vals, multi_carrier_connection_fractions[1], \n",
    "              marker=style_config[1][\"marker\"], s=style_config[1][\"s\"], label=style_config[1][\"label\"])\n",
    "ax[1].scatter(delta_vals, multi_carrier_connection_fractions[2], \n",
    "              marker=style_config[2][\"marker\"], s=style_config[2][\"s\"], label=style_config[2][\"label\"])\n",
    "ax[1].scatter(delta_vals, multi_carrier_connection_fractions[3], \n",
    "              marker=style_config[3][\"marker\"], s=style_config[3][\"s\"], label=style_config[3][\"label\"])\n",
    "ax[1].scatter(delta_vals, multi_carrier_connection_fractions[4], \n",
    "              marker=style_config[4][\"marker\"], s=style_config[4][\"s\"], label=style_config[4][\"label\"])\n",
    "ax[1].scatter(delta_vals, multi_carrier_connection_fractions[5], \n",
    "              marker=style_config[5][\"marker\"], s=style_config[5][\"s\"], label=style_config[5][\"label\"])\n",
    "\n",
    "ax[1].set_xlabel(\"$\\delta$\", fontsize=25)\n",
    "ax[1].set_ylabel(\"fraction of multi-carrier\\n connected flights\", fontsize=25)\n",
    "ax[1].tick_params('both', labelsize=25)\n",
    "ax[1].set_xlim(0, 1200)\n",
    "ax[1].set_ylim(0, 1.)\n",
    "\n",
    "plt.tight_layout()\n",
    "plt.show()"
   ]
  },
  {
   "cell_type": "code",
   "execution_count": null,
   "metadata": {},
   "outputs": [],
   "source": [
    "from pdf2image import convert_from_path\n",
    "import matplotlib.image as mpimg\n",
    "\n",
    "panel_a = convert_from_path(os.path.join(\"../results\", \"manuscript\", \"schematic_1a.pdf\"))\n",
    "panel_a[0] = panel_a[0].crop((50, 250, 1400, 1450))\n",
    "\n",
    "panel_b = convert_from_path(os.path.join(\"../results\", \"manuscript\", \"schematic_1b.pdf\"))\n",
    "panel_b[0] = panel_b[0].crop((150, 500, 950, 1200))\n",
    "\n",
    "panel_c = convert_from_path(os.path.join(\"../results\", \"manuscript\", \"schematic_1c.pdf\"))\n",
    "panel_c[0] = panel_c[0].crop((150, 550, 2050, 1150))\n"
   ]
  },
  {
   "cell_type": "code",
   "execution_count": 124,
   "metadata": {},
   "outputs": [
    {
     "data": {
      "image/png": "[encoded data removed]",
      "text/plain": [
       "<Figure size 2000x1500 with 5 Axes>"
      ]
     },
     "metadata": {},
     "output_type": "display_data"
    }
   ],
   "source": [
    "style_config = {1: {\"marker\": \"s\", \"s\": 75, \"label\": \"no cooperation\"},\n",
    "                2: {\"marker\": \"o\", \"s\": 75, \"label\": r\"cooperation, $\\epsilon=\\delta$\"},\n",
    "                3: {\"marker\": \"^\", \"s\": 75, \"label\": r\"cooperation, $\\epsilon=\\delta + 30$\"},\n",
    "                4: {\"marker\": \"p\", \"s\": 75, \"label\": r\"cooperation, $\\epsilon=\\delta + 60$\"},\n",
    "                5: {\"marker\": \"*\", \"s\": 75, \"label\": r\"cooperation, $\\epsilon=\\delta + 90$\"}}\n",
    "\n",
    "\n",
    "fig = plt.figure(figsize=(20, 15))\n",
    "\n",
    "# Create a gridspec layout with 2 rows and 2 columns\n",
    "gs = fig.add_gridspec(2, 2, height_ratios=[1.2, 0.8], width_ratios=[1, 1])\n",
    "\n",
    "# Create a nested gridspec for the top right cell to stack panels B and C\n",
    "gs_top_right = gs[0, 1].subgridspec(2, 1, height_ratios=[1, 1], hspace=0.1)\n",
    "\n",
    "# First row - single panel spanning both columns\n",
    "ax1 = fig.add_subplot(gs[0, 0])\n",
    "ax1.imshow(panel_a[0])\n",
    "ax1.axis('off')\n",
    "\n",
    "# Second row - two panels\n",
    "ax2 = fig.add_subplot(gs_top_right[0])\n",
    "ax2.imshow(panel_b[0]) \n",
    "ax2.axis('off')\n",
    "\n",
    "ax3 = fig.add_subplot(gs_top_right[1])\n",
    "ax3.imshow(panel_c[0])\n",
    "ax3.axis('off')\n",
    "\n",
    "# Third row - two panels\n",
    "ax4 = fig.add_subplot(gs[1, 0])\n",
    "ax4.scatter(delta_vals, connection_counts[1], \n",
    "              marker=style_config[1][\"marker\"], s=style_config[1][\"s\"], label=style_config[1][\"label\"])\n",
    "ax4.scatter(delta_vals, connection_counts[2], \n",
    "              marker=style_config[2][\"marker\"], s=style_config[2][\"s\"], label=style_config[2][\"label\"])\n",
    "ax4.scatter(delta_vals, connection_counts[3], \n",
    "              marker=style_config[3][\"marker\"], s=style_config[3][\"s\"], label=style_config[3][\"label\"])\n",
    "ax4.scatter(delta_vals, connection_counts[4], \n",
    "              marker=style_config[4][\"marker\"], s=style_config[4][\"s\"], label=style_config[4][\"label\"])\n",
    "ax4.scatter(delta_vals, connection_counts[5], \n",
    "              marker=style_config[5][\"marker\"], s=style_config[5][\"s\"], label=style_config[5][\"label\"])\n",
    "\n",
    "ax4.set_xlabel(\"$\\delta$\", fontsize=25)\n",
    "ax4.set_ylabel(\"number of connections\", fontsize=25)\n",
    "ax4.set_yscale('log')\n",
    "ax4.set_xlim(0, 1200)\n",
    "ax4.minorticks_on()\n",
    "ax4.tick_params('both', labelsize=25)\n",
    "ax4.legend(fontsize=20, handletextpad=0.05)\n",
    "\n",
    "ax5 = fig.add_subplot(gs[1, 1])\n",
    "ax5.scatter(delta_vals, multi_carrier_connection_fractions[1], \n",
    "              marker=style_config[1][\"marker\"], s=style_config[1][\"s\"], label=style_config[1][\"label\"])\n",
    "ax5.scatter(delta_vals, multi_carrier_connection_fractions[2], \n",
    "              marker=style_config[2][\"marker\"], s=style_config[2][\"s\"], label=style_config[2][\"label\"])\n",
    "ax5.scatter(delta_vals, multi_carrier_connection_fractions[3], \n",
    "              marker=style_config[3][\"marker\"], s=style_config[3][\"s\"], label=style_config[3][\"label\"])\n",
    "ax5.scatter(delta_vals, multi_carrier_connection_fractions[4], \n",
    "              marker=style_config[4][\"marker\"], s=style_config[4][\"s\"], label=style_config[4][\"label\"])\n",
    "ax5.scatter(delta_vals, multi_carrier_connection_fractions[5], \n",
    "              marker=style_config[5][\"marker\"], s=style_config[5][\"s\"], label=style_config[5][\"label\"])\n",
    "\n",
    "ax5.set_xlabel(\"$\\delta$\", fontsize=25)\n",
    "ax5.set_ylabel(\"fraction of multi-carrier\\n connected flights\", fontsize=25)\n",
    "ax5.tick_params('both', labelsize=25)\n",
    "ax5.set_xlim(0, 1200)\n",
    "ax5.set_ylim(0, 1.)\n",
    "ax5.minorticks_on()\n",
    "\n",
    "\n",
    "\n",
    "# Adjust the panel labels position and style\n",
    "label_kwargs = {\n",
    "    'fontsize': 30,\n",
    "    'ha': 'left',\n",
    "    'va': 'top'\n",
    "}\n",
    "\n",
    "# ax1.text(-0.1, 1.05, \"(a)\", transform=ax1.transAxes, **label_kwargs)\n",
    "# ax2.text(-0.1, 1.05, \"(b)\", transform=ax2.transAxes, **label_kwargs)\n",
    "# ax3.text(-0.1, 1.05, \"(c)\", transform=ax3.transAxes, **label_kwargs)\n",
    "# ax4.text(-0.2, 1.05, \"(d)\", transform=ax4.transAxes, **label_kwargs)\n",
    "# ax5.text(-0.2, 1.05, \"(e)\", transform=ax5.transAxes, **label_kwargs)\n",
    "\n",
    "fig.text(-0.02, 1.0, \"(a)\", **label_kwargs)\n",
    "fig.text(0.5, 1.0, \"(b)\", **label_kwargs)\n",
    "fig.text(0.5, 0.75, \"(c)\", **label_kwargs)\n",
    "fig.text(-0.02, 0.5, \"(d)\", **label_kwargs)\n",
    "fig.text(0.5, 0.5, \"(e)\", **label_kwargs)\n",
    "\n",
    "plt.tight_layout()\n",
    "plt.savefig(os.path.join(\"../results\", \"manuscript\", \"figure1.pdf\"), bbox_inches=\"tight\")\n",
    "plt.show()\n"
   ]
  },
  {
   "cell_type": "code",
   "execution_count": 68,
   "metadata": {},
   "outputs": [
    {
     "data": {
      "text/plain": [
       "(2200, 1700)"
      ]
     },
     "execution_count": 68,
     "metadata": {},
     "output_type": "execute_result"
    }
   ],
   "source": [
    "panel_b[0].size"
   ]
  },
  {
   "cell_type": "code",
   "execution_count": null,
   "metadata": {},
   "outputs": [],
   "source": []
  }
 ],
 "metadata": {
  "kernelspec": {
   "display_name": "airline-spp-application",
   "language": "python",
   "name": "python3"
  },
  "language_info": {
   "codemirror_mode": {
    "name": "ipython",
    "version": 3
   },
   "file_extension": ".py",
   "mimetype": "text/x-python",
   "name": "python",
   "nbconvert_exporter": "python",
   "pygments_lexer": "ipython3",
   "version": "3.10.13"
  }
 },
 "nbformat": 4,
 "nbformat_minor": 2
}
